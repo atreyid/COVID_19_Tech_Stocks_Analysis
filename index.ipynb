{
 "cells": [
  {
   "cell_type": "markdown",
   "metadata": {},
   "source": [
    "<h2 align=\"center\">Effect of COVID-19 on 20 tech stocks</h2>\n",
    "<p> COVID-19 has changed our lives. We are in lockdown, and have had to make major changes to our lifestyles. The stock market has had to deal with some drastic changes of its own. In this project I will explore the fate of some of tech stocks to see how good (or bad) they have braved the COVID-19 storm.\n",
    "\n",
    "Disclaimer: this project is meant for some basic pandas and viz skills practice and **should not** be used to derive any financial advice. </p>"
   ]
  },
  {
   "cell_type": "code",
   "execution_count": 2,
   "metadata": {},
   "outputs": [
    {
     "data": {
      "text/html": [
       "<style type=\"text/css\">\n",
       "\n",
       " body {\n",
       "     background-color: #4CB1F7;\n",
       "     margin: 0;\n",
       "     padding: 6em;\n",
       "     font-family: \"Helvetica Neue\", Helvetica, Arial, sans-serif;\n",
       "     font-size: 1em;\n",
       "}\n",
       "\n",
       "\n",
       "\n",
       " h2 {\n",
       "     color: #0339A6;\n",
       "     height: 3em;\n",
       "     width: 100%;\n",
       "     margin-bottom: 1em;\n",
       "     font-size: 2em;  \n",
       " }\n",
       "\n",
       "div.output_area {\n",
       "    width: 100%;\n",
       "    font-size: 1.1em;\n",
       "    color: #565656;\n",
       "}\n",
       "\n",
       "div.output_area pre {\n",
       "    font-size: 1.1em;\n",
       "    padding: 1.5em;\n",
       "}\n",
       "\n",
       "div.output_png.output_subarea {\n",
       "    max-width: 100%;\n",
       "}\n",
       "\n",
       "</style>\n"
      ],
      "text/plain": [
       "<IPython.core.display.HTML object>"
      ]
     },
     "metadata": {},
     "output_type": "display_data"
    }
   ],
   "source": [
    "%%html\n",
    "<style type=\"text/css\">\n",
    "\n",
    " body {\n",
    "     background-color: #4CB1F7;\n",
    "     margin: 0;\n",
    "     padding: 6em;\n",
    "     font-family: \"Helvetica Neue\", Helvetica, Arial, sans-serif;\n",
    "     font-size: 1em;\n",
    "}\n",
    "\n",
    "\n",
    "\n",
    " h2 {\n",
    "     color: #0339A6;\n",
    "     height: 3em;\n",
    "     width: 100%;\n",
    "     margin-bottom: 1em;\n",
    "     font-size: 2em;  \n",
    " }\n",
    "\n",
    "div.output_area {\n",
    "    width: 100%;\n",
    "    font-size: 1.1em;\n",
    "    color: #565656;\n",
    "}\n",
    "\n",
    "div.output_area pre {\n",
    "    font-size: 1.1em;\n",
    "    padding: 1.5em;\n",
    "}\n",
    "\n",
    "div.output_png.output_subarea {\n",
    "    max-width: 100%;\n",
    "}\n",
    "\n",
    "</style>"
   ]
  },
  {
   "cell_type": "code",
   "execution_count": 5,
   "metadata": {},
   "outputs": [
    {
     "name": "stdout",
     "output_type": "stream",
     "text": [
      "Last updated: 2020-06-09 at 15:07:24\n"
     ]
    }
   ],
   "source": [
    "import datetime\n",
    "\n",
    "now = datetime.datetime.now()\n",
    "print(\"Last updated:\", now.strftime(\"%Y-%m-%d\" + \" at \"+ \"%H:%M:%S\"))"
   ]
  },
  {
   "cell_type": "markdown",
   "metadata": {},
   "source": [
    "### Get the Data\n",
    "\n",
    "In this section I use pandas to scrape data from Yahoo! finance using pandas."
   ]
  },
  {
   "cell_type": "code",
   "execution_count": 7,
   "metadata": {},
   "outputs": [
    {
     "data": {
      "text/html": [
       "        <script type=\"text/javascript\">\n",
       "        window.PlotlyConfig = {MathJaxConfig: 'local'};\n",
       "        if (window.MathJax) {MathJax.Hub.Config({SVG: {font: \"STIX-Web\"}});}\n",
       "        if (typeof require !== 'undefined') {\n",
       "        require.undef(\"plotly\");\n",
       "        requirejs.config({\n",
       "            paths: {\n",
       "                'plotly': ['https://cdn.plot.ly/plotly-latest.min']\n",
       "            }\n",
       "        });\n",
       "        require(['plotly'], function(Plotly) {\n",
       "            window._Plotly = Plotly;\n",
       "        });\n",
       "        }\n",
       "        </script>\n",
       "        "
      ]
     },
     "metadata": {},
     "output_type": "display_data"
    }
   ],
   "source": [
    "from pandas_datareader import data, wb\n",
    "import pandas as pd\n",
    "import numpy as np\n",
    "import datetime\n",
    "import seaborn as sns\n",
    "import matplotlib.pyplot as plt\n",
    "sns.set_style('whitegrid')\n",
    "%matplotlib inline\n",
    "\n",
    "\n",
    "#Plotly Method Imports\n",
    "import plotly # You can use matplotlib as well for these plots as well\n",
    "import cufflinks as cf \n",
    "cf.go_offline()"
   ]
  },
  {
   "cell_type": "markdown",
   "metadata": {},
   "source": [
    "The stock data for these tickers are queried from Jan 1st 2017 to current date and saved in their own dataframes.\n",
    "\n",
    "stock tickers are as follows:\n",
    "MSFT, AAPL, AMZN, GOOG, BABA, FB, INTC, NVDA, CRM, PYPL, TSLA, AMD, EA, MTCH, TTD, ZG, ATVI, YELP, TIVO, ZM and VMW"
   ]
  },
  {
   "cell_type": "code",
   "execution_count": 8,
   "metadata": {},
   "outputs": [],
   "source": [
    "start = datetime.datetime(2017, 1, 1) # START ON January 1 2017\n",
    "end = datetime.date.today() # LOOK AT STOCKS TILL current date\n",
    "\n",
    "tickers = ['MSFT','AAPL','AMZN','GOOG','BABA','FB','INTC','NVDA','CRM','PYPL','TSLA','AMD','EA','MTCH','TTD','ZG','ATVI','YELP','TIVO','ZM','VMW']\n",
    "df_map = {}\n",
    "\n",
    "for tick in tickers:\n",
    "    stock = data.DataReader(tick, 'yahoo', start, end)\n",
    "    df_map[tick] = stock"
   ]
  },
  {
   "cell_type": "code",
   "execution_count": 9,
   "metadata": {},
   "outputs": [],
   "source": [
    "#Using pd.concat to concatenate the stock dataframes together to a single data frame called tech_stocks"
   ]
  },
  {
   "cell_type": "code",
   "execution_count": 10,
   "metadata": {},
   "outputs": [
    {
     "data": {
      "text/html": [
       "<div>\n",
       "<style scoped>\n",
       "    .dataframe tbody tr th:only-of-type {\n",
       "        vertical-align: middle;\n",
       "    }\n",
       "\n",
       "    .dataframe tbody tr th {\n",
       "        vertical-align: top;\n",
       "    }\n",
       "\n",
       "    .dataframe thead tr th {\n",
       "        text-align: left;\n",
       "    }\n",
       "\n",
       "    .dataframe thead tr:last-of-type th {\n",
       "        text-align: right;\n",
       "    }\n",
       "</style>\n",
       "<table border=\"1\" class=\"dataframe\">\n",
       "  <thead>\n",
       "    <tr>\n",
       "      <th>Stock Ticker</th>\n",
       "      <th colspan=\"6\" halign=\"left\">MSFT</th>\n",
       "      <th colspan=\"4\" halign=\"left\">AAPL</th>\n",
       "      <th>...</th>\n",
       "      <th colspan=\"4\" halign=\"left\">ZM</th>\n",
       "      <th colspan=\"6\" halign=\"left\">VMW</th>\n",
       "    </tr>\n",
       "    <tr>\n",
       "      <th>Stock Info</th>\n",
       "      <th>High</th>\n",
       "      <th>Low</th>\n",
       "      <th>Open</th>\n",
       "      <th>Close</th>\n",
       "      <th>Volume</th>\n",
       "      <th>Adj Close</th>\n",
       "      <th>High</th>\n",
       "      <th>Low</th>\n",
       "      <th>Open</th>\n",
       "      <th>Close</th>\n",
       "      <th>...</th>\n",
       "      <th>Open</th>\n",
       "      <th>Close</th>\n",
       "      <th>Volume</th>\n",
       "      <th>Adj Close</th>\n",
       "      <th>High</th>\n",
       "      <th>Low</th>\n",
       "      <th>Open</th>\n",
       "      <th>Close</th>\n",
       "      <th>Volume</th>\n",
       "      <th>Adj Close</th>\n",
       "    </tr>\n",
       "    <tr>\n",
       "      <th>Date</th>\n",
       "      <th></th>\n",
       "      <th></th>\n",
       "      <th></th>\n",
       "      <th></th>\n",
       "      <th></th>\n",
       "      <th></th>\n",
       "      <th></th>\n",
       "      <th></th>\n",
       "      <th></th>\n",
       "      <th></th>\n",
       "      <th></th>\n",
       "      <th></th>\n",
       "      <th></th>\n",
       "      <th></th>\n",
       "      <th></th>\n",
       "      <th></th>\n",
       "      <th></th>\n",
       "      <th></th>\n",
       "      <th></th>\n",
       "      <th></th>\n",
       "      <th></th>\n",
       "    </tr>\n",
       "  </thead>\n",
       "  <tbody>\n",
       "    <tr>\n",
       "      <td>2020-06-03</td>\n",
       "      <td>185.940002</td>\n",
       "      <td>183.580002</td>\n",
       "      <td>184.820007</td>\n",
       "      <td>185.360001</td>\n",
       "      <td>27311000.0</td>\n",
       "      <td>185.360001</td>\n",
       "      <td>326.200012</td>\n",
       "      <td>322.299988</td>\n",
       "      <td>324.660004</td>\n",
       "      <td>325.119995</td>\n",
       "      <td>...</td>\n",
       "      <td>211.699997</td>\n",
       "      <td>223.869995</td>\n",
       "      <td>32390100.0</td>\n",
       "      <td>223.869995</td>\n",
       "      <td>152.490005</td>\n",
       "      <td>149.300003</td>\n",
       "      <td>151.940002</td>\n",
       "      <td>149.389999</td>\n",
       "      <td>1222400.0</td>\n",
       "      <td>149.389999</td>\n",
       "    </tr>\n",
       "    <tr>\n",
       "      <td>2020-06-04</td>\n",
       "      <td>185.839996</td>\n",
       "      <td>182.300003</td>\n",
       "      <td>184.300003</td>\n",
       "      <td>182.919998</td>\n",
       "      <td>28761800.0</td>\n",
       "      <td>182.919998</td>\n",
       "      <td>325.619995</td>\n",
       "      <td>320.779999</td>\n",
       "      <td>324.390015</td>\n",
       "      <td>322.320007</td>\n",
       "      <td>...</td>\n",
       "      <td>221.000000</td>\n",
       "      <td>210.350006</td>\n",
       "      <td>20212600.0</td>\n",
       "      <td>210.350006</td>\n",
       "      <td>150.149994</td>\n",
       "      <td>146.880005</td>\n",
       "      <td>148.509995</td>\n",
       "      <td>148.080002</td>\n",
       "      <td>1318100.0</td>\n",
       "      <td>148.080002</td>\n",
       "    </tr>\n",
       "    <tr>\n",
       "      <td>2020-06-05</td>\n",
       "      <td>187.729996</td>\n",
       "      <td>182.009995</td>\n",
       "      <td>182.619995</td>\n",
       "      <td>187.199997</td>\n",
       "      <td>39893600.0</td>\n",
       "      <td>187.199997</td>\n",
       "      <td>331.750000</td>\n",
       "      <td>323.230011</td>\n",
       "      <td>323.350006</td>\n",
       "      <td>331.500000</td>\n",
       "      <td>...</td>\n",
       "      <td>200.110001</td>\n",
       "      <td>207.600006</td>\n",
       "      <td>16298700.0</td>\n",
       "      <td>207.600006</td>\n",
       "      <td>152.190002</td>\n",
       "      <td>148.699997</td>\n",
       "      <td>148.960007</td>\n",
       "      <td>149.770004</td>\n",
       "      <td>1531100.0</td>\n",
       "      <td>149.770004</td>\n",
       "    </tr>\n",
       "    <tr>\n",
       "      <td>2020-06-08</td>\n",
       "      <td>188.550003</td>\n",
       "      <td>184.440002</td>\n",
       "      <td>185.940002</td>\n",
       "      <td>188.360001</td>\n",
       "      <td>33171000.0</td>\n",
       "      <td>188.360001</td>\n",
       "      <td>333.600006</td>\n",
       "      <td>327.320007</td>\n",
       "      <td>330.250000</td>\n",
       "      <td>333.459991</td>\n",
       "      <td>...</td>\n",
       "      <td>204.350006</td>\n",
       "      <td>209.830002</td>\n",
       "      <td>10446600.0</td>\n",
       "      <td>209.830002</td>\n",
       "      <td>153.190002</td>\n",
       "      <td>148.639999</td>\n",
       "      <td>151.199997</td>\n",
       "      <td>151.850006</td>\n",
       "      <td>1357900.0</td>\n",
       "      <td>151.850006</td>\n",
       "    </tr>\n",
       "    <tr>\n",
       "      <td>2020-06-09</td>\n",
       "      <td>190.699997</td>\n",
       "      <td>187.260498</td>\n",
       "      <td>188.000000</td>\n",
       "      <td>189.800003</td>\n",
       "      <td>28820688.0</td>\n",
       "      <td>189.800003</td>\n",
       "      <td>345.609894</td>\n",
       "      <td>332.010010</td>\n",
       "      <td>332.140015</td>\n",
       "      <td>343.989990</td>\n",
       "      <td>...</td>\n",
       "      <td>209.830002</td>\n",
       "      <td>205.429993</td>\n",
       "      <td>7407105.0</td>\n",
       "      <td>205.429993</td>\n",
       "      <td>151.850006</td>\n",
       "      <td>146.410004</td>\n",
       "      <td>151.619995</td>\n",
       "      <td>146.410004</td>\n",
       "      <td>1174856.0</td>\n",
       "      <td>146.410004</td>\n",
       "    </tr>\n",
       "  </tbody>\n",
       "</table>\n",
       "<p>5 rows × 126 columns</p>\n",
       "</div>"
      ],
      "text/plain": [
       "Stock Ticker        MSFT                                                  \\\n",
       "Stock Info          High         Low        Open       Close      Volume   \n",
       "Date                                                                       \n",
       "2020-06-03    185.940002  183.580002  184.820007  185.360001  27311000.0   \n",
       "2020-06-04    185.839996  182.300003  184.300003  182.919998  28761800.0   \n",
       "2020-06-05    187.729996  182.009995  182.619995  187.199997  39893600.0   \n",
       "2020-06-08    188.550003  184.440002  185.940002  188.360001  33171000.0   \n",
       "2020-06-09    190.699997  187.260498  188.000000  189.800003  28820688.0   \n",
       "\n",
       "Stock Ticker                    AAPL                                      ...  \\\n",
       "Stock Info     Adj Close        High         Low        Open       Close  ...   \n",
       "Date                                                                      ...   \n",
       "2020-06-03    185.360001  326.200012  322.299988  324.660004  325.119995  ...   \n",
       "2020-06-04    182.919998  325.619995  320.779999  324.390015  322.320007  ...   \n",
       "2020-06-05    187.199997  331.750000  323.230011  323.350006  331.500000  ...   \n",
       "2020-06-08    188.360001  333.600006  327.320007  330.250000  333.459991  ...   \n",
       "2020-06-09    189.800003  345.609894  332.010010  332.140015  343.989990  ...   \n",
       "\n",
       "Stock Ticker          ZM                                             VMW  \\\n",
       "Stock Info          Open       Close      Volume   Adj Close        High   \n",
       "Date                                                                       \n",
       "2020-06-03    211.699997  223.869995  32390100.0  223.869995  152.490005   \n",
       "2020-06-04    221.000000  210.350006  20212600.0  210.350006  150.149994   \n",
       "2020-06-05    200.110001  207.600006  16298700.0  207.600006  152.190002   \n",
       "2020-06-08    204.350006  209.830002  10446600.0  209.830002  153.190002   \n",
       "2020-06-09    209.830002  205.429993   7407105.0  205.429993  151.850006   \n",
       "\n",
       "Stock Ticker                                                             \n",
       "Stock Info           Low        Open       Close     Volume   Adj Close  \n",
       "Date                                                                     \n",
       "2020-06-03    149.300003  151.940002  149.389999  1222400.0  149.389999  \n",
       "2020-06-04    146.880005  148.509995  148.080002  1318100.0  148.080002  \n",
       "2020-06-05    148.699997  148.960007  149.770004  1531100.0  149.770004  \n",
       "2020-06-08    148.639999  151.199997  151.850006  1357900.0  151.850006  \n",
       "2020-06-09    146.410004  151.619995  146.410004  1174856.0  146.410004  \n",
       "\n",
       "[5 rows x 126 columns]"
      ]
     },
     "execution_count": 10,
     "metadata": {},
     "output_type": "execute_result"
    }
   ],
   "source": [
    "tech_stocks = pd.concat(df_map,axis = 1,keys = tickers)\n",
    "tech_stocks.columns.names = ['Stock Ticker','Stock Info']\n",
    "tech_stocks.tail()"
   ]
  },
  {
   "cell_type": "markdown",
   "metadata": {},
   "source": [
    "What is the maximum and minimum of the Close price for each tech company's stock throughout the time period? Let's also use a bar plot to visualize the data as well.\n",
    "\n",
    "Note: We use a log scale for close price to normalize the values to a uniform scale."
   ]
  },
  {
   "cell_type": "code",
   "execution_count": 11,
   "metadata": {},
   "outputs": [
    {
     "data": {
      "image/png": "[encoded data removed]",
      "text/plain": [
       "<Figure size 864x864 with 1 Axes>"
      ]
     },
     "metadata": {
      "needs_background": "light"
     },
     "output_type": "display_data"
    }
   ],
   "source": [
    "import matplotlib.pylab as pylab\n",
    "params = {'legend.fontsize': 'large',\n",
    "         'axes.labelsize': 'large',\n",
    "         'axes.titlesize':'x-large',\n",
    "         'xtick.labelsize':'large',\n",
    "         'ytick.labelsize':'large'}\n",
    "max_close = tech_stocks.xs(key='Close',axis=1,level='Stock Info').max()\n",
    "min_close = tech_stocks.xs(key='Close',axis=1,level='Stock Info').min()\n",
    "plt.figure(figsize=(12,12))\n",
    "plt.yscale('log')\n",
    "plt.tight_layout()\n",
    "plt.ylabel('Log (Close)')\n",
    "max_close.plot(kind='bar',color='purple',label='Maximum Close Price')\n",
    "min_close.plot(kind='bar',color='orange',label='Minimum Close Price')\n",
    "plt.legend()\n",
    "plt.tight_layout()"
   ]
  },
  {
   "cell_type": "markdown",
   "metadata": {},
   "source": [
    "Using the bar-plot above, stocks can be classified into two broad groups: Reliable stocks and Volatile stocks. \n",
    "\n",
    "**Reliable stocks** are the ones that didnot show much difference between the minimum Close price and maximum Close Price in the time period specified. e.g.: GOOG and AMZN. \n",
    "**Volatile stocks** are the ones that fluctate the most between the minimum and maximum closing price of stocks. e.g.: TTD and TIVO\n",
    "\n",
    "However, a more interesting comparison is to compare the same data against two separate time-periods: Pre-COVID-19 and Post-COVID-19."
   ]
  },
  {
   "cell_type": "code",
   "execution_count": 12,
   "metadata": {},
   "outputs": [
    {
     "data": {
      "text/plain": [
       "Text(0.5, 1.0, 'Post COVID-19: Jan 2020 - Today')"
      ]
     },
     "execution_count": 12,
     "metadata": {},
     "output_type": "execute_result"
    },
    {
     "data": {
      "image/png": "[encoded data removed]",
      "text/plain": [
       "<Figure size 1152x1152 with 2 Axes>"
      ]
     },
     "metadata": {
      "needs_background": "light"
     },
     "output_type": "display_data"
    }
   ],
   "source": [
    "import matplotlib.pylab as pylab\n",
    "params = {'legend.fontsize': 'xx-large',\n",
    "         'axes.labelsize': 'xx-large',\n",
    "         'axes.titlesize':'xx-large',\n",
    "         'xtick.labelsize':'x-large',\n",
    "         'ytick.labelsize':'xx-large'}\n",
    "pylab.rcParams.update(params)\n",
    "current_date_str = datetime.date.today().strftime(\"%Y-%m-%d\") #to store the current date as a string\n",
    "fig, axes = plt.subplots(nrows=1,ncols=2,figsize=(16,16))\n",
    "\n",
    "\n",
    "max_close_pre_corona = tech_stocks.xs(key='Close',axis=1,level='Stock Info').loc['2019-10-01':'2019-12-31'].max()\n",
    "min_close_pre_corona = tech_stocks.xs(key='Close',axis=1,level='Stock Info').loc['2019-10-01':'2019-12-31'].min()\n",
    "#plot\n",
    "max_close_pre_corona.plot(kind='bar',ax = axes[0],subplots=True,color='purple')\n",
    "min_close_pre_corona.plot(kind='bar',ax = axes[0],subplots=True,color='orange')\n",
    "axes[0].set_yscale('log')\n",
    "axes[0].set_ylabel('Log (Close)')\n",
    "axes[0].legend([\"Maximum\", \"Minimum\"])\n",
    "axes[0].set_title('Pre COVID-19: Oct 2019 - Dec 2019')\n",
    "\n",
    "max_close_post_corona = tech_stocks.xs(key='Close',axis=1,level='Stock Info').loc['2020-01-01':current_date_str].max()\n",
    "min_close_post_corona = tech_stocks.xs(key='Close',axis=1,level='Stock Info').loc['2019-01-01':current_date_str].min()\n",
    "#plot\n",
    "max_close_post_corona.plot(kind='bar',ax = axes[1],subplots=True,color='purple')\n",
    "min_close_post_corona.plot(kind='bar',ax = axes[1],subplots=True,color='orange')\n",
    "axes[1].set_yscale('log')\n",
    "axes[1].set_ylabel('Log (Close)')\n",
    "axes[1].legend([\"Maximum\", \"Minimum\"])\n",
    "axes[1].set_title('Post COVID-19: Jan 2020 - Today')\n"
   ]
  },
  {
   "cell_type": "markdown",
   "metadata": {},
   "source": [
    "It is clear that the more **Reliable** stocks like AAPL and AMZN in the pre COVID-19 period saw significant volatility in their closing prices once the COVID-19 storm hit.    "
   ]
  },
  {
   "cell_type": "markdown",
   "metadata": {},
   "source": [
    "The next analysis is to use pandas pct_change() method on the Close column to create a **Returns** value. A return is defined as the change in price of stocks over time, which may be represented in terms of price change or percentage change. A positive return represents a profit while a negative return marks a loss."
   ]
  },
  {
   "cell_type": "code",
   "execution_count": 13,
   "metadata": {},
   "outputs": [
    {
     "data": {
      "text/html": [
       "<div>\n",
       "<style scoped>\n",
       "    .dataframe tbody tr th:only-of-type {\n",
       "        vertical-align: middle;\n",
       "    }\n",
       "\n",
       "    .dataframe tbody tr th {\n",
       "        vertical-align: top;\n",
       "    }\n",
       "\n",
       "    .dataframe thead th {\n",
       "        text-align: right;\n",
       "    }\n",
       "</style>\n",
       "<table border=\"1\" class=\"dataframe\">\n",
       "  <thead>\n",
       "    <tr style=\"text-align: right;\">\n",
       "      <th></th>\n",
       "      <th>MSFT Return</th>\n",
       "      <th>AAPL Return</th>\n",
       "      <th>AMZN Return</th>\n",
       "      <th>GOOG Return</th>\n",
       "      <th>BABA Return</th>\n",
       "      <th>FB Return</th>\n",
       "      <th>INTC Return</th>\n",
       "      <th>NVDA Return</th>\n",
       "      <th>CRM Return</th>\n",
       "      <th>PYPL Return</th>\n",
       "      <th>...</th>\n",
       "      <th>AMD Return</th>\n",
       "      <th>EA Return</th>\n",
       "      <th>MTCH Return</th>\n",
       "      <th>TTD Return</th>\n",
       "      <th>ZG Return</th>\n",
       "      <th>ATVI Return</th>\n",
       "      <th>YELP Return</th>\n",
       "      <th>TIVO Return</th>\n",
       "      <th>ZM Return</th>\n",
       "      <th>VMW Return</th>\n",
       "    </tr>\n",
       "    <tr>\n",
       "      <th>Date</th>\n",
       "      <th></th>\n",
       "      <th></th>\n",
       "      <th></th>\n",
       "      <th></th>\n",
       "      <th></th>\n",
       "      <th></th>\n",
       "      <th></th>\n",
       "      <th></th>\n",
       "      <th></th>\n",
       "      <th></th>\n",
       "      <th></th>\n",
       "      <th></th>\n",
       "      <th></th>\n",
       "      <th></th>\n",
       "      <th></th>\n",
       "      <th></th>\n",
       "      <th></th>\n",
       "      <th></th>\n",
       "      <th></th>\n",
       "      <th></th>\n",
       "      <th></th>\n",
       "    </tr>\n",
       "  </thead>\n",
       "  <tbody>\n",
       "    <tr>\n",
       "      <td>2020-06-03</td>\n",
       "      <td>0.002434</td>\n",
       "      <td>0.005505</td>\n",
       "      <td>0.002423</td>\n",
       "      <td>-0.001973</td>\n",
       "      <td>0.019969</td>\n",
       "      <td>-0.011000</td>\n",
       "      <td>-0.003059</td>\n",
       "      <td>-0.006317</td>\n",
       "      <td>0.004362</td>\n",
       "      <td>-0.004508</td>\n",
       "      <td>...</td>\n",
       "      <td>-0.015129</td>\n",
       "      <td>-0.036205</td>\n",
       "      <td>-0.003709</td>\n",
       "      <td>0.115377</td>\n",
       "      <td>0.047370</td>\n",
       "      <td>-0.041929</td>\n",
       "      <td>0.057869</td>\n",
       "      <td>0.0</td>\n",
       "      <td>0.075884</td>\n",
       "      <td>-0.023212</td>\n",
       "    </tr>\n",
       "    <tr>\n",
       "      <td>2020-06-04</td>\n",
       "      <td>-0.013164</td>\n",
       "      <td>-0.008612</td>\n",
       "      <td>-0.007182</td>\n",
       "      <td>-0.016848</td>\n",
       "      <td>-0.002607</td>\n",
       "      <td>-0.016814</td>\n",
       "      <td>0.016793</td>\n",
       "      <td>-0.000342</td>\n",
       "      <td>-0.020287</td>\n",
       "      <td>-0.013905</td>\n",
       "      <td>...</td>\n",
       "      <td>-0.001896</td>\n",
       "      <td>-0.006360</td>\n",
       "      <td>-0.027976</td>\n",
       "      <td>-0.049975</td>\n",
       "      <td>-0.012071</td>\n",
       "      <td>-0.001573</td>\n",
       "      <td>-0.032739</td>\n",
       "      <td>0.0</td>\n",
       "      <td>-0.060392</td>\n",
       "      <td>-0.008769</td>\n",
       "    </tr>\n",
       "    <tr>\n",
       "      <td>2020-06-05</td>\n",
       "      <td>0.023398</td>\n",
       "      <td>0.028481</td>\n",
       "      <td>0.009103</td>\n",
       "      <td>0.018560</td>\n",
       "      <td>0.006925</td>\n",
       "      <td>0.019798</td>\n",
       "      <td>0.021756</td>\n",
       "      <td>0.017510</td>\n",
       "      <td>0.014232</td>\n",
       "      <td>0.009056</td>\n",
       "      <td>...</td>\n",
       "      <td>0.008930</td>\n",
       "      <td>0.009729</td>\n",
       "      <td>-0.014117</td>\n",
       "      <td>0.050558</td>\n",
       "      <td>-0.030303</td>\n",
       "      <td>-0.005443</td>\n",
       "      <td>0.159383</td>\n",
       "      <td>0.0</td>\n",
       "      <td>-0.013073</td>\n",
       "      <td>0.011413</td>\n",
       "    </tr>\n",
       "    <tr>\n",
       "      <td>2020-06-08</td>\n",
       "      <td>0.006197</td>\n",
       "      <td>0.005912</td>\n",
       "      <td>0.016536</td>\n",
       "      <td>0.005715</td>\n",
       "      <td>-0.002505</td>\n",
       "      <td>0.002730</td>\n",
       "      <td>-0.010413</td>\n",
       "      <td>-0.012892</td>\n",
       "      <td>0.015355</td>\n",
       "      <td>0.000577</td>\n",
       "      <td>...</td>\n",
       "      <td>-0.002448</td>\n",
       "      <td>0.010057</td>\n",
       "      <td>-0.006438</td>\n",
       "      <td>0.011347</td>\n",
       "      <td>0.044187</td>\n",
       "      <td>0.018724</td>\n",
       "      <td>0.013304</td>\n",
       "      <td>0.0</td>\n",
       "      <td>0.010742</td>\n",
       "      <td>0.013888</td>\n",
       "    </tr>\n",
       "    <tr>\n",
       "      <td>2020-06-09</td>\n",
       "      <td>0.007645</td>\n",
       "      <td>0.031578</td>\n",
       "      <td>0.030427</td>\n",
       "      <td>0.006602</td>\n",
       "      <td>0.007854</td>\n",
       "      <td>0.031417</td>\n",
       "      <td>-0.009895</td>\n",
       "      <td>0.027371</td>\n",
       "      <td>-0.011272</td>\n",
       "      <td>0.004933</td>\n",
       "      <td>...</td>\n",
       "      <td>0.064565</td>\n",
       "      <td>0.013053</td>\n",
       "      <td>0.002011</td>\n",
       "      <td>0.013033</td>\n",
       "      <td>-0.018665</td>\n",
       "      <td>0.017956</td>\n",
       "      <td>-0.072939</td>\n",
       "      <td>0.0</td>\n",
       "      <td>-0.020969</td>\n",
       "      <td>-0.035825</td>\n",
       "    </tr>\n",
       "  </tbody>\n",
       "</table>\n",
       "<p>5 rows × 21 columns</p>\n",
       "</div>"
      ],
      "text/plain": [
       "            MSFT Return  AAPL Return  AMZN Return  GOOG Return  BABA Return  \\\n",
       "Date                                                                          \n",
       "2020-06-03     0.002434     0.005505     0.002423    -0.001973     0.019969   \n",
       "2020-06-04    -0.013164    -0.008612    -0.007182    -0.016848    -0.002607   \n",
       "2020-06-05     0.023398     0.028481     0.009103     0.018560     0.006925   \n",
       "2020-06-08     0.006197     0.005912     0.016536     0.005715    -0.002505   \n",
       "2020-06-09     0.007645     0.031578     0.030427     0.006602     0.007854   \n",
       "\n",
       "            FB Return  INTC Return  NVDA Return  CRM Return  PYPL Return  ...  \\\n",
       "Date                                                                      ...   \n",
       "2020-06-03  -0.011000    -0.003059    -0.006317    0.004362    -0.004508  ...   \n",
       "2020-06-04  -0.016814     0.016793    -0.000342   -0.020287    -0.013905  ...   \n",
       "2020-06-05   0.019798     0.021756     0.017510    0.014232     0.009056  ...   \n",
       "2020-06-08   0.002730    -0.010413    -0.012892    0.015355     0.000577  ...   \n",
       "2020-06-09   0.031417    -0.009895     0.027371   -0.011272     0.004933  ...   \n",
       "\n",
       "            AMD Return  EA Return  MTCH Return  TTD Return  ZG Return  \\\n",
       "Date                                                                    \n",
       "2020-06-03   -0.015129  -0.036205    -0.003709    0.115377   0.047370   \n",
       "2020-06-04   -0.001896  -0.006360    -0.027976   -0.049975  -0.012071   \n",
       "2020-06-05    0.008930   0.009729    -0.014117    0.050558  -0.030303   \n",
       "2020-06-08   -0.002448   0.010057    -0.006438    0.011347   0.044187   \n",
       "2020-06-09    0.064565   0.013053     0.002011    0.013033  -0.018665   \n",
       "\n",
       "            ATVI Return  YELP Return  TIVO Return  ZM Return  VMW Return  \n",
       "Date                                                                      \n",
       "2020-06-03    -0.041929     0.057869          0.0   0.075884   -0.023212  \n",
       "2020-06-04    -0.001573    -0.032739          0.0  -0.060392   -0.008769  \n",
       "2020-06-05    -0.005443     0.159383          0.0  -0.013073    0.011413  \n",
       "2020-06-08     0.018724     0.013304          0.0   0.010742    0.013888  \n",
       "2020-06-09     0.017956    -0.072939          0.0  -0.020969   -0.035825  \n",
       "\n",
       "[5 rows x 21 columns]"
      ]
     },
     "execution_count": 13,
     "metadata": {},
     "output_type": "execute_result"
    }
   ],
   "source": [
    "returns = pd.DataFrame() #empty dataframe\n",
    "for tick in tickers:\n",
    "    returns[tick+' Return'] = tech_stocks[tick]['Close'].pct_change()\n",
    "returns.tail()"
   ]
  },
  {
   "cell_type": "markdown",
   "metadata": {},
   "source": [
    "A looks at the minimum and maximum returns for each stock tick in this time-period:"
   ]
  },
  {
   "cell_type": "code",
   "execution_count": 14,
   "metadata": {},
   "outputs": [
    {
     "data": {
      "text/plain": [
       "MSFT Return   2020-03-16\n",
       "AAPL Return   2020-03-16\n",
       "AMZN Return   2020-03-12\n",
       "GOOG Return   2020-03-16\n",
       "BABA Return   2020-03-16\n",
       "FB Return     2018-07-26\n",
       "INTC Return   2020-03-16\n",
       "NVDA Return   2018-11-16\n",
       "CRM Return    2020-03-16\n",
       "PYPL Return   2020-03-16\n",
       "TSLA Return   2020-03-16\n",
       "AMD Return    2017-05-02\n",
       "EA Return     2019-02-06\n",
       "MTCH Return   2018-05-01\n",
       "TTD Return    2020-03-16\n",
       "ZG Return     2018-11-07\n",
       "ATVI Return   2018-11-09\n",
       "YELP Return   2018-11-09\n",
       "TIVO Return   2020-03-16\n",
       "ZM Return     2020-03-24\n",
       "VMW Return    2018-01-29\n",
       "dtype: datetime64[ns]"
      ]
     },
     "execution_count": 14,
     "metadata": {},
     "output_type": "execute_result"
    }
   ],
   "source": [
    "returns.idxmin()"
   ]
  },
  {
   "cell_type": "markdown",
   "metadata": {},
   "source": [
    "It is interesting to note that most of these stocks had their lowest return in March 2020"
   ]
  },
  {
   "cell_type": "code",
   "execution_count": 15,
   "metadata": {},
   "outputs": [
    {
     "data": {
      "text/plain": [
       "MSFT Return   2020-03-13\n",
       "AAPL Return   2020-03-13\n",
       "AMZN Return   2017-10-27\n",
       "GOOG Return   2019-07-26\n",
       "BABA Return   2017-06-08\n",
       "FB Return     2019-01-31\n",
       "INTC Return   2020-03-13\n",
       "NVDA Return   2017-05-10\n",
       "CRM Return    2018-11-28\n",
       "PYPL Return   2020-03-24\n",
       "TSLA Return   2020-02-03\n",
       "AMD Return    2019-01-30\n",
       "EA Return     2019-02-08\n",
       "MTCH Return   2019-08-07\n",
       "TTD Return    2018-05-11\n",
       "ZG Return     2019-02-22\n",
       "ATVI Return   2017-02-10\n",
       "YELP Return   2017-08-04\n",
       "TIVO Return   2020-02-19\n",
       "ZM Return     2020-03-23\n",
       "VMW Return    2020-03-13\n",
       "dtype: datetime64[ns]"
      ]
     },
     "execution_count": 15,
     "metadata": {},
     "output_type": "execute_result"
    }
   ],
   "source": [
    "returns.idxmax()"
   ]
  },
  {
   "cell_type": "markdown",
   "metadata": {},
   "source": [
    "And for some, their highest returns were seen in March 2020 as well thereby confirming that the COVID-19 has indeed rendered the stock market more unpredictable than in the recent past.\n",
    "\n",
    "Now, two new series, named `pre_corona` and `post_corona` are initialised with the standard deviation of stock returns from October - December 2019 and standard deviation of stock returns from January - March 2020, respectively. This series is sorted and hence if the stocks occur at the right end of the chart, they are deemed **volatile** with significant values of standard deviation whereas if they occur on the left they could be deemed **reliable**."
   ]
  },
  {
   "cell_type": "code",
   "execution_count": 16,
   "metadata": {},
   "outputs": [
    {
     "data": {
      "image/png": "[encoded data removed]",
      "text/plain": [
       "<Figure size 2160x576 with 1 Axes>"
      ]
     },
     "metadata": {},
     "output_type": "display_data"
    }
   ],
   "source": [
    "pre_corona=returns.loc['2019-10-01':'2019-12-31'].std()\n",
    "sns.set(font_scale=2.5)\n",
    "plt.figure(figsize=(30,8))\n",
    "pre_corona.sort_values().plot.bar(title=\"Pre COVID-19\")\n",
    "plt.ylabel(\"Std. Deviation\")\n",
    "plt.tight_layout()"
   ]
  },
  {
   "cell_type": "code",
   "execution_count": 17,
   "metadata": {},
   "outputs": [
    {
     "data": {
      "image/png": "[encoded data removed]",
      "text/plain": [
       "<Figure size 2160x576 with 1 Axes>"
      ]
     },
     "metadata": {},
     "output_type": "display_data"
    }
   ],
   "source": [
    "post_corona=returns.loc['2020-01-01':current_date_str].std()\n",
    "sns.set(font_scale=2.5)\n",
    "plt.figure(figsize=(30,8))\n",
    "post_corona.sort_values().plot.bar(title=\"Post COVID-19\")\n",
    "plt.ylabel(\"Std. Deviation\")\n",
    "plt.tight_layout()"
   ]
  },
  {
   "cell_type": "markdown",
   "metadata": {},
   "source": [
    "It is clear that MSFT has suffered the most - shifting from the most **reliable** stock to a relatively **volatile** stock due to this pandemic!"
   ]
  },
  {
   "cell_type": "markdown",
   "metadata": {},
   "source": [
    "From the above collection, let's choose 5 stocks that have suffered significant effects. I am picking the following - MSFT, BABA, AAPL, MTCH and ZM. Interesting is the irregularity of ZM stocks (that provides a video conferencing service) which shot up to being a necessary tool for all kinds of Work from Home requirements. "
   ]
  },
  {
   "cell_type": "code",
   "execution_count": 19,
   "metadata": {},
   "outputs": [
    {
     "data": {
      "application/vnd.plotly.v1+json": {
       "config": {
        "linkText": "Export to plot.ly",
        "plotlyServerURL": "https://plot.ly",
        "showLink": true
       },
       "data": [
        {
         "line": {
          "color": "rgba(255, 153, 51, 1.0)",
          "dash": "solid",
          "shape": "linear",
          "width": 3.5
         },
         "mode": "lines",
         "name": "MSFT",
         "text": "",
         "type": "scatter",
         "x": [
          "2019-10-01",
          "2019-10-02",
          "2019-10-03",
          "2019-10-04",
          "2019-10-07",
          "2019-10-08",
          "2019-10-09",
          "2019-10-10",
          "2019-10-11",
          "2019-10-14",
          "2019-10-15",
          "2019-10-16",
          "2019-10-17",
          "2019-10-18",
          "2019-10-21",
          "2019-10-22",
          "2019-10-23",
          "2019-10-24",
          "2019-10-25",
          "2019-10-28",
          "2019-10-29",
          "2019-10-30",
          "2019-10-31",
          "2019-11-01",
          "2019-11-04",
          "2019-11-05",
          "2019-11-06",
          "2019-11-07",
          "2019-11-08",
          "2019-11-11",
          "2019-11-12",
          "2019-11-13",
          "2019-11-14",
          "2019-11-15",
          "2019-11-18",
          "2019-11-19",
          "2019-11-20",
          "2019-11-21",
          "2019-11-22",
          "2019-11-25",
          "2019-11-26",
          "2019-11-27",
          "2019-11-29",
          "2019-12-02",
          "2019-12-03",
          "2019-12-04",
          "2019-12-05",
          "2019-12-06",
          "2019-12-09",
          "2019-12-10",
          "2019-12-11",
          "2019-12-12",
          "2019-12-13",
          "2019-12-16",
          "2019-12-17",
          "2019-12-18",
          "2019-12-19",
          "2019-12-20",
          "2019-12-23",
          "2019-12-24",
          "2019-12-26",
          "2019-12-27",
          "2019-12-30",
          "2019-12-31",
          "2020-01-02",
          "2020-01-03",
          "2020-01-06",
          "2020-01-07",
          "2020-01-08",
          "2020-01-09",
          "2020-01-10",
          "2020-01-13",
          "2020-01-14",
          "2020-01-15",
          "2020-01-16",
          "2020-01-17",
          "2020-01-21",
          "2020-01-22",
          "2020-01-23",
          "2020-01-24",
          "2020-01-27",
          "2020-01-28",
          "2020-01-29",
          "2020-01-30",
          "2020-01-31",
          "2020-02-03",
          "2020-02-04",
          "2020-02-05",
          "2020-02-06",
          "2020-02-07",
          "2020-02-10",
          "2020-02-11",
          "2020-02-12",
          "2020-02-13",
          "2020-02-14",
          "2020-02-18",
          "2020-02-19",
          "2020-02-20",
          "2020-02-21",
          "2020-02-24",
          "2020-02-25",
          "2020-02-26",
          "2020-02-27",
          "2020-02-28",
          "2020-03-02",
          "2020-03-03",
          "2020-03-04",
          "2020-03-05",
          "2020-03-06",
          "2020-03-09",
          "2020-03-10",
          "2020-03-11",
          "2020-03-12",
          "2020-03-13",
          "2020-03-16",
          "2020-03-17",
          "2020-03-18",
          "2020-03-19",
          "2020-03-20",
          "2020-03-23",
          "2020-03-24",
          "2020-03-25",
          "2020-03-26",
          "2020-03-27",
          "2020-03-30",
          "2020-03-31",
          "2020-04-01",
          "2020-04-02",
          "2020-04-03",
          "2020-04-06",
          "2020-04-07",
          "2020-04-08",
          "2020-04-09",
          "2020-04-13",
          "2020-04-14",
          "2020-04-15",
          "2020-04-16",
          "2020-04-17",
          "2020-04-20",
          "2020-04-21",
          "2020-04-22",
          "2020-04-23",
          "2020-04-24",
          "2020-04-27",
          "2020-04-28",
          "2020-04-29",
          "2020-04-30",
          "2020-05-01",
          "2020-05-04",
          "2020-05-05",
          "2020-05-06",
          "2020-05-07",
          "2020-05-08",
          "2020-05-11",
          "2020-05-12",
          "2020-05-13",
          "2020-05-14",
          "2020-05-15",
          "2020-05-18",
          "2020-05-19",
          "2020-05-20",
          "2020-05-21",
          "2020-05-22",
          "2020-05-26",
          "2020-05-27",
          "2020-05-28",
          "2020-05-29",
          "2020-06-01",
          "2020-06-02",
          "2020-06-03",
          "2020-06-04",
          "2020-06-05",
          "2020-06-08",
          "2020-06-09"
         ],
         "y": [
          137.07000732421875,
          134.64999389648438,
          136.27999877929688,
          138.1199951171875,
          137.1199951171875,
          135.6699981689453,
          138.24000549316406,
          139.10000610351562,
          139.67999267578125,
          139.5500030517578,
          141.57000732421875,
          140.41000366210938,
          139.69000244140625,
          137.41000366210938,
          138.42999267578125,
          136.3699951171875,
          137.24000549316406,
          139.94000244140625,
          140.72999572753906,
          144.19000244140625,
          142.8300018310547,
          144.61000061035156,
          143.3699951171875,
          143.72000122070312,
          144.5500030517578,
          144.4600067138672,
          144.05999755859375,
          144.25999450683594,
          145.9600067138672,
          146.11000061035156,
          147.07000732421875,
          147.30999755859375,
          148.05999755859375,
          149.97000122070312,
          150.33999633789062,
          150.38999938964844,
          149.6199951171875,
          149.47999572753906,
          149.58999633789062,
          151.22999572753906,
          152.02999877929688,
          152.32000732421875,
          151.3800048828125,
          149.5500030517578,
          149.30999755859375,
          149.85000610351562,
          149.92999267578125,
          151.75,
          151.36000061035156,
          151.1300048828125,
          151.6999969482422,
          153.24000549316406,
          154.52999877929688,
          155.52999877929688,
          154.69000244140625,
          154.3699951171875,
          155.7100067138672,
          157.41000366210938,
          157.41000366210938,
          157.3800048828125,
          158.6699981689453,
          158.9600067138672,
          157.58999633789062,
          157.6999969482422,
          160.6199951171875,
          158.6199951171875,
          159.02999877929688,
          157.5800018310547,
          160.08999633789062,
          162.08999633789062,
          161.33999633789062,
          163.27999877929688,
          162.1300048828125,
          163.17999267578125,
          166.1699981689453,
          167.10000610351562,
          166.5,
          165.6999969482422,
          166.72000122070312,
          165.0399932861328,
          162.27999877929688,
          165.4600067138672,
          168.0399932861328,
          172.77999877929688,
          170.22999572753906,
          174.3800048828125,
          180.1199951171875,
          179.89999389648438,
          183.6300048828125,
          183.88999938964844,
          188.6999969482422,
          184.44000244140625,
          184.7100067138672,
          183.7100067138672,
          185.35000610351562,
          187.22999572753906,
          187.27999877929688,
          184.4199981689453,
          178.58999633789062,
          170.88999938964844,
          168.07000732421875,
          170.1699981689453,
          158.17999267578125,
          162.00999450683594,
          172.7899932861328,
          164.50999450683594,
          170.5500030517578,
          166.27000427246094,
          161.57000732421875,
          150.6199951171875,
          160.9199981689453,
          153.6300048828125,
          139.05999755859375,
          158.8300018310547,
          135.4199981689453,
          146.57000732421875,
          140.39999389648438,
          142.7100067138672,
          137.35000610351562,
          135.97999572753906,
          148.33999633789062,
          146.9199981689453,
          156.11000061035156,
          149.6999969482422,
          160.22999572753906,
          157.7100067138672,
          152.11000061035156,
          155.25999450683594,
          153.8300018310547,
          165.27000427246094,
          163.49000549316406,
          165.1300048828125,
          165.13999938964844,
          165.50999450683594,
          173.6999969482422,
          171.8800048828125,
          177.0399932861328,
          178.60000610351562,
          175.05999755859375,
          167.82000732421875,
          173.52000427246094,
          171.4199981689453,
          174.5500030517578,
          174.0500030517578,
          169.80999755859375,
          177.42999267578125,
          179.2100067138672,
          174.57000732421875,
          178.83999633789062,
          180.75999450683594,
          182.5399932861328,
          183.60000610351562,
          184.67999267578125,
          186.74000549316406,
          182.50999450683594,
          179.75,
          180.52999877929688,
          183.16000366210938,
          184.91000366210938,
          183.6300048828125,
          185.66000366210938,
          183.42999267578125,
          183.50999450683594,
          181.57000732421875,
          181.80999755859375,
          181.39999389648438,
          183.25,
          182.8300018310547,
          184.91000366210938,
          185.36000061035156,
          182.9199981689453,
          187.1999969482422,
          188.36000061035156,
          189.8000030517578
         ]
        },
        {
         "line": {
          "color": "rgba(55, 128, 191, 1.0)",
          "dash": "solid",
          "shape": "linear",
          "width": 3.5
         },
         "mode": "lines",
         "name": "BABA",
         "text": "",
         "type": "scatter",
         "x": [
          "2019-10-01",
          "2019-10-02",
          "2019-10-03",
          "2019-10-04",
          "2019-10-07",
          "2019-10-08",
          "2019-10-09",
          "2019-10-10",
          "2019-10-11",
          "2019-10-14",
          "2019-10-15",
          "2019-10-16",
          "2019-10-17",
          "2019-10-18",
          "2019-10-21",
          "2019-10-22",
          "2019-10-23",
          "2019-10-24",
          "2019-10-25",
          "2019-10-28",
          "2019-10-29",
          "2019-10-30",
          "2019-10-31",
          "2019-11-01",
          "2019-11-04",
          "2019-11-05",
          "2019-11-06",
          "2019-11-07",
          "2019-11-08",
          "2019-11-11",
          "2019-11-12",
          "2019-11-13",
          "2019-11-14",
          "2019-11-15",
          "2019-11-18",
          "2019-11-19",
          "2019-11-20",
          "2019-11-21",
          "2019-11-22",
          "2019-11-25",
          "2019-11-26",
          "2019-11-27",
          "2019-11-29",
          "2019-12-02",
          "2019-12-03",
          "2019-12-04",
          "2019-12-05",
          "2019-12-06",
          "2019-12-09",
          "2019-12-10",
          "2019-12-11",
          "2019-12-12",
          "2019-12-13",
          "2019-12-16",
          "2019-12-17",
          "2019-12-18",
          "2019-12-19",
          "2019-12-20",
          "2019-12-23",
          "2019-12-24",
          "2019-12-26",
          "2019-12-27",
          "2019-12-30",
          "2019-12-31",
          "2020-01-02",
          "2020-01-03",
          "2020-01-06",
          "2020-01-07",
          "2020-01-08",
          "2020-01-09",
          "2020-01-10",
          "2020-01-13",
          "2020-01-14",
          "2020-01-15",
          "2020-01-16",
          "2020-01-17",
          "2020-01-21",
          "2020-01-22",
          "2020-01-23",
          "2020-01-24",
          "2020-01-27",
          "2020-01-28",
          "2020-01-29",
          "2020-01-30",
          "2020-01-31",
          "2020-02-03",
          "2020-02-04",
          "2020-02-05",
          "2020-02-06",
          "2020-02-07",
          "2020-02-10",
          "2020-02-11",
          "2020-02-12",
          "2020-02-13",
          "2020-02-14",
          "2020-02-18",
          "2020-02-19",
          "2020-02-20",
          "2020-02-21",
          "2020-02-24",
          "2020-02-25",
          "2020-02-26",
          "2020-02-27",
          "2020-02-28",
          "2020-03-02",
          "2020-03-03",
          "2020-03-04",
          "2020-03-05",
          "2020-03-06",
          "2020-03-09",
          "2020-03-10",
          "2020-03-11",
          "2020-03-12",
          "2020-03-13",
          "2020-03-16",
          "2020-03-17",
          "2020-03-18",
          "2020-03-19",
          "2020-03-20",
          "2020-03-23",
          "2020-03-24",
          "2020-03-25",
          "2020-03-26",
          "2020-03-27",
          "2020-03-30",
          "2020-03-31",
          "2020-04-01",
          "2020-04-02",
          "2020-04-03",
          "2020-04-06",
          "2020-04-07",
          "2020-04-08",
          "2020-04-09",
          "2020-04-13",
          "2020-04-14",
          "2020-04-15",
          "2020-04-16",
          "2020-04-17",
          "2020-04-20",
          "2020-04-21",
          "2020-04-22",
          "2020-04-23",
          "2020-04-24",
          "2020-04-27",
          "2020-04-28",
          "2020-04-29",
          "2020-04-30",
          "2020-05-01",
          "2020-05-04",
          "2020-05-05",
          "2020-05-06",
          "2020-05-07",
          "2020-05-08",
          "2020-05-11",
          "2020-05-12",
          "2020-05-13",
          "2020-05-14",
          "2020-05-15",
          "2020-05-18",
          "2020-05-19",
          "2020-05-20",
          "2020-05-21",
          "2020-05-22",
          "2020-05-26",
          "2020-05-27",
          "2020-05-28",
          "2020-05-29",
          "2020-06-01",
          "2020-06-02",
          "2020-06-03",
          "2020-06-04",
          "2020-06-05",
          "2020-06-08",
          "2020-06-09"
         ],
         "y": [
          165.14999389648438,
          165.77000427246094,
          169.47999572753906,
          170.33999633789062,
          168.32000732421875,
          161.92999267578125,
          165.19000244140625,
          166.07000732421875,
          172.94000244140625,
          171.16000366210938,
          175.2899932861328,
          177.1199951171875,
          176.85000610351562,
          169.1300048828125,
          173.52000427246094,
          169.88999938964844,
          169.9199981689453,
          172.5500030517578,
          174.30999755859375,
          178.67999267578125,
          176.88999938964844,
          177.52999877929688,
          176.6699981689453,
          176.4600067138672,
          179.69000244140625,
          182,
          184.16000366210938,
          186.66000366210938,
          187.16000366210938,
          186.7100067138672,
          186.97000122070312,
          182.47999572753906,
          182.8000030517578,
          185.49000549316406,
          184.61000061035156,
          185.25,
          182.35000610351562,
          184.86000061035156,
          186.77999877929688,
          190.4499969482422,
          194.6999969482422,
          200.82000732421875,
          200,
          196.30999755859375,
          194.89999389648438,
          193.74000549316406,
          200,
          201.88999938964844,
          198.74000549316406,
          200.4499969482422,
          204.63999938964844,
          204.5,
          204.91000366210938,
          206.97000122070312,
          208.17999267578125,
          210,
          210.1300048828125,
          212.25,
          214.8300018310547,
          214.25999450683594,
          216.3800048828125,
          215.47000122070312,
          212.91000366210938,
          212.10000610351562,
          219.77000427246094,
          217,
          216.63999938964844,
          217.6300048828125,
          218,
          221.77999877929688,
          223.8300018310547,
          230.47999572753906,
          226.49000549316406,
          225.05999755859375,
          223.94000244140625,
          227.42999267578125,
          222.25999450683594,
          222.3699951171875,
          219.1300048828125,
          213.75,
          205.47000122070312,
          210.22999572753906,
          212.02000427246094,
          208.5800018310547,
          206.58999633789062,
          213.10000610351562,
          222.8800048828125,
          220.22000122070312,
          220.89999389648438,
          216.52999877929688,
          215.77000427246094,
          217.2100067138672,
          224.30999755859375,
          220.36000061035156,
          219.6300048828125,
          220.52000427246094,
          222.13999938964844,
          218.0399932861328,
          212.58999633789062,
          206.16000366210938,
          205.61000061035156,
          208.74000549316406,
          205.02999877929688,
          208,
          210.97999572753906,
          207.41000366210938,
          211.9600067138672,
          211.4600067138672,
          204.63999938964844,
          197.66000366210938,
          206.38999938964844,
          198.91000366210938,
          185.10000610351562,
          194,
          178.85000610351562,
          184.80999755859375,
          180,
          180.8800048828125,
          181.3000030517578,
          176.33999633789062,
          185.75,
          188.55999755859375,
          195.32000732421875,
          188.58999633789062,
          191.27000427246094,
          194.47999572753906,
          187.55999755859375,
          188.89999389648438,
          187.11000061035156,
          196.4499969482422,
          198,
          195.97999572753906,
          196.3699951171875,
          199.44000244140625,
          204.77999877929688,
          208.1699981689453,
          212.66000366210938,
          209.5,
          212.1300048828125,
          207.33999633789062,
          209.9600067138672,
          205.24000549316406,
          204.36000061035156,
          203.69000244140625,
          201.14999389648438,
          206.6999969482422,
          202.6699981689453,
          194.47999572753906,
          191.14999389648438,
          195.02000427246094,
          195.1699981689453,
          196.49000549316406,
          201.19000244140625,
          205.39999389648438,
          200.30999755859375,
          199.4600067138672,
          201.3000030517578,
          203.67999267578125,
          215.27999877929688,
          217.1999969482422,
          216.7899932861328,
          212.16000366210938,
          199.6999969482422,
          201.72000122070312,
          201.17999267578125,
          199.49000549316406,
          207.38999938964844,
          206.57000732421875,
          214.3300018310547,
          218.61000061035156,
          218.0399932861328,
          219.5500030517578,
          219,
          220.72000122070312
         ]
        },
        {
         "line": {
          "color": "rgba(50, 171, 96, 1.0)",
          "dash": "solid",
          "shape": "linear",
          "width": 3.5
         },
         "mode": "lines",
         "name": "AAPL",
         "text": "",
         "type": "scatter",
         "x": [
          "2019-10-01",
          "2019-10-02",
          "2019-10-03",
          "2019-10-04",
          "2019-10-07",
          "2019-10-08",
          "2019-10-09",
          "2019-10-10",
          "2019-10-11",
          "2019-10-14",
          "2019-10-15",
          "2019-10-16",
          "2019-10-17",
          "2019-10-18",
          "2019-10-21",
          "2019-10-22",
          "2019-10-23",
          "2019-10-24",
          "2019-10-25",
          "2019-10-28",
          "2019-10-29",
          "2019-10-30",
          "2019-10-31",
          "2019-11-01",
          "2019-11-04",
          "2019-11-05",
          "2019-11-06",
          "2019-11-07",
          "2019-11-08",
          "2019-11-11",
          "2019-11-12",
          "2019-11-13",
          "2019-11-14",
          "2019-11-15",
          "2019-11-18",
          "2019-11-19",
          "2019-11-20",
          "2019-11-21",
          "2019-11-22",
          "2019-11-25",
          "2019-11-26",
          "2019-11-27",
          "2019-11-29",
          "2019-12-02",
          "2019-12-03",
          "2019-12-04",
          "2019-12-05",
          "2019-12-06",
          "2019-12-09",
          "2019-12-10",
          "2019-12-11",
          "2019-12-12",
          "2019-12-13",
          "2019-12-16",
          "2019-12-17",
          "2019-12-18",
          "2019-12-19",
          "2019-12-20",
          "2019-12-23",
          "2019-12-24",
          "2019-12-26",
          "2019-12-27",
          "2019-12-30",
          "2019-12-31",
          "2020-01-02",
          "2020-01-03",
          "2020-01-06",
          "2020-01-07",
          "2020-01-08",
          "2020-01-09",
          "2020-01-10",
          "2020-01-13",
          "2020-01-14",
          "2020-01-15",
          "2020-01-16",
          "2020-01-17",
          "2020-01-21",
          "2020-01-22",
          "2020-01-23",
          "2020-01-24",
          "2020-01-27",
          "2020-01-28",
          "2020-01-29",
          "2020-01-30",
          "2020-01-31",
          "2020-02-03",
          "2020-02-04",
          "2020-02-05",
          "2020-02-06",
          "2020-02-07",
          "2020-02-10",
          "2020-02-11",
          "2020-02-12",
          "2020-02-13",
          "2020-02-14",
          "2020-02-18",
          "2020-02-19",
          "2020-02-20",
          "2020-02-21",
          "2020-02-24",
          "2020-02-25",
          "2020-02-26",
          "2020-02-27",
          "2020-02-28",
          "2020-03-02",
          "2020-03-03",
          "2020-03-04",
          "2020-03-05",
          "2020-03-06",
          "2020-03-09",
          "2020-03-10",
          "2020-03-11",
          "2020-03-12",
          "2020-03-13",
          "2020-03-16",
          "2020-03-17",
          "2020-03-18",
          "2020-03-19",
          "2020-03-20",
          "2020-03-23",
          "2020-03-24",
          "2020-03-25",
          "2020-03-26",
          "2020-03-27",
          "2020-03-30",
          "2020-03-31",
          "2020-04-01",
          "2020-04-02",
          "2020-04-03",
          "2020-04-06",
          "2020-04-07",
          "2020-04-08",
          "2020-04-09",
          "2020-04-13",
          "2020-04-14",
          "2020-04-15",
          "2020-04-16",
          "2020-04-17",
          "2020-04-20",
          "2020-04-21",
          "2020-04-22",
          "2020-04-23",
          "2020-04-24",
          "2020-04-27",
          "2020-04-28",
          "2020-04-29",
          "2020-04-30",
          "2020-05-01",
          "2020-05-04",
          "2020-05-05",
          "2020-05-06",
          "2020-05-07",
          "2020-05-08",
          "2020-05-11",
          "2020-05-12",
          "2020-05-13",
          "2020-05-14",
          "2020-05-15",
          "2020-05-18",
          "2020-05-19",
          "2020-05-20",
          "2020-05-21",
          "2020-05-22",
          "2020-05-26",
          "2020-05-27",
          "2020-05-28",
          "2020-05-29",
          "2020-06-01",
          "2020-06-02",
          "2020-06-03",
          "2020-06-04",
          "2020-06-05",
          "2020-06-08",
          "2020-06-09"
         ],
         "y": [
          224.58999633789062,
          218.9600067138672,
          220.82000732421875,
          227.00999450683594,
          227.05999755859375,
          224.39999389648438,
          227.02999877929688,
          230.08999633789062,
          236.2100067138672,
          235.8699951171875,
          235.32000732421875,
          234.3699951171875,
          235.27999877929688,
          236.41000366210938,
          240.50999450683594,
          239.9600067138672,
          243.17999267578125,
          243.5800018310547,
          246.5800018310547,
          249.0500030517578,
          243.2899932861328,
          243.25999450683594,
          248.75999450683594,
          255.82000732421875,
          257.5,
          257.1300048828125,
          257.239990234375,
          259.42999267578125,
          260.1400146484375,
          262.20001220703125,
          261.9599914550781,
          264.4700012207031,
          262.6400146484375,
          265.760009765625,
          267.1000061035156,
          266.2900085449219,
          263.19000244140625,
          262.010009765625,
          261.7799987792969,
          266.3699951171875,
          264.2900085449219,
          267.8399963378906,
          267.25,
          264.1600036621094,
          259.45001220703125,
          261.739990234375,
          265.5799865722656,
          270.7099914550781,
          266.9200134277344,
          268.4800109863281,
          270.7699890136719,
          271.4599914550781,
          275.1499938964844,
          279.8599853515625,
          280.4100036621094,
          279.739990234375,
          280.0199890136719,
          279.44000244140625,
          284,
          284.2699890136719,
          289.9100036621094,
          289.79998779296875,
          291.5199890136719,
          293.6499938964844,
          300.3500061035156,
          297.42999267578125,
          299.79998779296875,
          298.3900146484375,
          303.19000244140625,
          309.6300048828125,
          310.3299865722656,
          316.9599914550781,
          312.67999267578125,
          311.3399963378906,
          315.239990234375,
          318.7300109863281,
          316.57000732421875,
          317.70001220703125,
          319.2300109863281,
          318.30999755859375,
          308.95001220703125,
          317.69000244140625,
          324.3399963378906,
          323.8699951171875,
          309.510009765625,
          308.6600036621094,
          318.8500061035156,
          321.45001220703125,
          325.2099914550781,
          320.0299987792969,
          321.54998779296875,
          319.6099853515625,
          327.20001220703125,
          324.8699951171875,
          324.95001220703125,
          319,
          323.6199951171875,
          320.29998779296875,
          313.04998779296875,
          298.17999267578125,
          288.0799865722656,
          292.6499938964844,
          273.5199890136719,
          273.3599853515625,
          298.80999755859375,
          289.32000732421875,
          302.739990234375,
          292.9200134277344,
          289.0299987792969,
          266.1700134277344,
          285.3399963378906,
          275.42999267578125,
          248.22999572753906,
          277.9700012207031,
          242.2100067138672,
          252.86000061035156,
          246.6699981689453,
          244.77999877929688,
          229.24000549316406,
          224.3699951171875,
          246.8800048828125,
          245.52000427246094,
          258.44000244140625,
          247.74000549316406,
          254.80999755859375,
          254.2899932861328,
          240.91000366210938,
          244.92999267578125,
          241.41000366210938,
          262.4700012207031,
          259.42999267578125,
          266.07000732421875,
          267.989990234375,
          273.25,
          287.04998779296875,
          284.42999267578125,
          286.69000244140625,
          282.79998779296875,
          276.92999267578125,
          268.3699951171875,
          276.1000061035156,
          275.0299987792969,
          282.9700012207031,
          283.1700134277344,
          278.5799865722656,
          287.7300109863281,
          293.79998779296875,
          289.07000732421875,
          293.1600036621094,
          297.55999755859375,
          300.6300048828125,
          303.739990234375,
          310.1300048828125,
          315.010009765625,
          311.4100036621094,
          307.6499938964844,
          309.5400085449219,
          307.7099914550781,
          314.9599914550781,
          313.1400146484375,
          319.2300109863281,
          316.8500061035156,
          318.8900146484375,
          316.7300109863281,
          318.1099853515625,
          318.25,
          317.94000244140625,
          321.8500061035156,
          323.3399963378906,
          325.1199951171875,
          322.32000732421875,
          331.5,
          333.4599914550781,
          343.989990234375
         ]
        },
        {
         "line": {
          "color": "rgba(128, 0, 128, 1.0)",
          "dash": "solid",
          "shape": "linear",
          "width": 3.5
         },
         "mode": "lines",
         "name": "MTCH",
         "text": "",
         "type": "scatter",
         "x": [
          "2019-10-01",
          "2019-10-02",
          "2019-10-03",
          "2019-10-04",
          "2019-10-07",
          "2019-10-08",
          "2019-10-09",
          "2019-10-10",
          "2019-10-11",
          "2019-10-14",
          "2019-10-15",
          "2019-10-16",
          "2019-10-17",
          "2019-10-18",
          "2019-10-21",
          "2019-10-22",
          "2019-10-23",
          "2019-10-24",
          "2019-10-25",
          "2019-10-28",
          "2019-10-29",
          "2019-10-30",
          "2019-10-31",
          "2019-11-01",
          "2019-11-04",
          "2019-11-05",
          "2019-11-06",
          "2019-11-07",
          "2019-11-08",
          "2019-11-11",
          "2019-11-12",
          "2019-11-13",
          "2019-11-14",
          "2019-11-15",
          "2019-11-18",
          "2019-11-19",
          "2019-11-20",
          "2019-11-21",
          "2019-11-22",
          "2019-11-25",
          "2019-11-26",
          "2019-11-27",
          "2019-11-29",
          "2019-12-02",
          "2019-12-03",
          "2019-12-04",
          "2019-12-05",
          "2019-12-06",
          "2019-12-09",
          "2019-12-10",
          "2019-12-11",
          "2019-12-12",
          "2019-12-13",
          "2019-12-16",
          "2019-12-17",
          "2019-12-18",
          "2019-12-19",
          "2019-12-20",
          "2019-12-23",
          "2019-12-24",
          "2019-12-26",
          "2019-12-27",
          "2019-12-30",
          "2019-12-31",
          "2020-01-02",
          "2020-01-03",
          "2020-01-06",
          "2020-01-07",
          "2020-01-08",
          "2020-01-09",
          "2020-01-10",
          "2020-01-13",
          "2020-01-14",
          "2020-01-15",
          "2020-01-16",
          "2020-01-17",
          "2020-01-21",
          "2020-01-22",
          "2020-01-23",
          "2020-01-24",
          "2020-01-27",
          "2020-01-28",
          "2020-01-29",
          "2020-01-30",
          "2020-01-31",
          "2020-02-03",
          "2020-02-04",
          "2020-02-05",
          "2020-02-06",
          "2020-02-07",
          "2020-02-10",
          "2020-02-11",
          "2020-02-12",
          "2020-02-13",
          "2020-02-14",
          "2020-02-18",
          "2020-02-19",
          "2020-02-20",
          "2020-02-21",
          "2020-02-24",
          "2020-02-25",
          "2020-02-26",
          "2020-02-27",
          "2020-02-28",
          "2020-03-02",
          "2020-03-03",
          "2020-03-04",
          "2020-03-05",
          "2020-03-06",
          "2020-03-09",
          "2020-03-10",
          "2020-03-11",
          "2020-03-12",
          "2020-03-13",
          "2020-03-16",
          "2020-03-17",
          "2020-03-18",
          "2020-03-19",
          "2020-03-20",
          "2020-03-23",
          "2020-03-24",
          "2020-03-25",
          "2020-03-26",
          "2020-03-27",
          "2020-03-30",
          "2020-03-31",
          "2020-04-01",
          "2020-04-02",
          "2020-04-03",
          "2020-04-06",
          "2020-04-07",
          "2020-04-08",
          "2020-04-09",
          "2020-04-13",
          "2020-04-14",
          "2020-04-15",
          "2020-04-16",
          "2020-04-17",
          "2020-04-20",
          "2020-04-21",
          "2020-04-22",
          "2020-04-23",
          "2020-04-24",
          "2020-04-27",
          "2020-04-28",
          "2020-04-29",
          "2020-04-30",
          "2020-05-01",
          "2020-05-04",
          "2020-05-05",
          "2020-05-06",
          "2020-05-07",
          "2020-05-08",
          "2020-05-11",
          "2020-05-12",
          "2020-05-13",
          "2020-05-14",
          "2020-05-15",
          "2020-05-18",
          "2020-05-19",
          "2020-05-20",
          "2020-05-21",
          "2020-05-22",
          "2020-05-26",
          "2020-05-27",
          "2020-05-28",
          "2020-05-29",
          "2020-06-01",
          "2020-06-02",
          "2020-06-03",
          "2020-06-04",
          "2020-06-05",
          "2020-06-08",
          "2020-06-09"
         ],
         "y": [
          72.95999908447266,
          72.37000274658203,
          75,
          74.43000030517578,
          77.97000122070312,
          75.54000091552734,
          75.95999908447266,
          76.0199966430664,
          74.0999984741211,
          74,
          75.25,
          76.62000274658203,
          75.80000305175781,
          71.55000305175781,
          72.97000122070312,
          71.27999877929688,
          73.45999908447266,
          73.86000061035156,
          73.94000244140625,
          73.8499984741211,
          72.79000091552734,
          73.7300033569336,
          72.98999786376953,
          73,
          71.20999908447266,
          68.7699966430664,
          67.04000091552734,
          69.69999694824219,
          69.08000183105469,
          68.69000244140625,
          68.41000366210938,
          68.69999694824219,
          69.37999725341797,
          70.08000183105469,
          71.08999633789062,
          71.86000061035156,
          70.47000122070312,
          70.04000091552734,
          69.87000274658203,
          69.27999877929688,
          70.37000274658203,
          70.1500015258789,
          70.4800033569336,
          68.41999816894531,
          68.26000213623047,
          67.9800033569336,
          68.12999725341797,
          67.87000274658203,
          67.80999755859375,
          68.25,
          68.62000274658203,
          69.08999633789062,
          71.91000366210938,
          72.30999755859375,
          71.04000091552734,
          71.23999786376953,
          77.3499984741211,
          79.86000061035156,
          80.18000030517578,
          80.94000244140625,
          82.51000213623047,
          84.02999877929688,
          82.9800033569336,
          82.11000061035156,
          84.19000244140625,
          84.0999984741211,
          84.31999969482422,
          83.81999969482422,
          85.05000305175781,
          85.75,
          87.12999725341797,
          89.58000183105469,
          89.72000122070312,
          91.0999984741211,
          92.44999694824219,
          91.11000061035156,
          89.75,
          89.55999755859375,
          88.47000122070312,
          85.56999969482422,
          84.3499984741211,
          83.95999908447266,
          81.02999877929688,
          81.05000305175781,
          78.22000122070312,
          80.72000122070312,
          82.93000030517578,
          76,
          79.51000213623047,
          77.75,
          75.80999755859375,
          74.58000183105469,
          75.5,
          75.20999908447266,
          76.5,
          76.69999694824219,
          75.91999816894531,
          75.1500015258789,
          73.5,
          70.1500015258789,
          67.75,
          66.04000091552734,
          64.80000305175781,
          65,
          68.13999938964844,
          65.80000305175781,
          68.05999755859375,
          66.61000061035156,
          65.55999755859375,
          64.04000091552734,
          65.81999969482422,
          63.02000045776367,
          57.56999969482422,
          60.470001220703125,
          54.38999938964844,
          57.02000045776367,
          52,
          50.7599983215332,
          47.349998474121094,
          48.709999084472656,
          57.86000061035156,
          65.5999984741211,
          63.58000183105469,
          62.47999954223633,
          66.66999816894531,
          66.04000091552734,
          61.61000061035156,
          62.189998626708984,
          63.70000076293945,
          68.41000366210938,
          70.18000030517578,
          69.20999908447266,
          68.11000061035156,
          68.4800033569336,
          73.26000213623047,
          74.48999786376953,
          78.87000274658203,
          80,
          80.02999877929688,
          76.9000015258789,
          80.02999877929688,
          80.37999725341797,
          81.2300033569336,
          78.37999725341797,
          75.23999786376953,
          79.58999633789062,
          76.95999908447266,
          74.63999938964844,
          77.18000030517578,
          80.0999984741211,
          87.3499984741211,
          82.62999725341797,
          79.98999786376953,
          79.94000244140625,
          77.81999969482422,
          74.75,
          77.37000274658203,
          78.16999816894531,
          83.5999984741211,
          85.72000122070312,
          84.63999938964844,
          84,
          84.93000030517578,
          85.48999786376953,
          85.97000122070312,
          88.93000030517578,
          89.04000091552734,
          91.7300033569336,
          94.36000061035156,
          94.01000213623047,
          91.37999725341797,
          90.08999633789062,
          89.51000213623047,
          89.69000244140625
         ]
        },
        {
         "line": {
          "color": "rgba(219, 64, 82, 1.0)",
          "dash": "solid",
          "shape": "linear",
          "width": 3.5
         },
         "mode": "lines",
         "name": "ZM",
         "text": "",
         "type": "scatter",
         "x": [
          "2019-10-01",
          "2019-10-02",
          "2019-10-03",
          "2019-10-04",
          "2019-10-07",
          "2019-10-08",
          "2019-10-09",
          "2019-10-10",
          "2019-10-11",
          "2019-10-14",
          "2019-10-15",
          "2019-10-16",
          "2019-10-17",
          "2019-10-18",
          "2019-10-21",
          "2019-10-22",
          "2019-10-23",
          "2019-10-24",
          "2019-10-25",
          "2019-10-28",
          "2019-10-29",
          "2019-10-30",
          "2019-10-31",
          "2019-11-01",
          "2019-11-04",
          "2019-11-05",
          "2019-11-06",
          "2019-11-07",
          "2019-11-08",
          "2019-11-11",
          "2019-11-12",
          "2019-11-13",
          "2019-11-14",
          "2019-11-15",
          "2019-11-18",
          "2019-11-19",
          "2019-11-20",
          "2019-11-21",
          "2019-11-22",
          "2019-11-25",
          "2019-11-26",
          "2019-11-27",
          "2019-11-29",
          "2019-12-02",
          "2019-12-03",
          "2019-12-04",
          "2019-12-05",
          "2019-12-06",
          "2019-12-09",
          "2019-12-10",
          "2019-12-11",
          "2019-12-12",
          "2019-12-13",
          "2019-12-16",
          "2019-12-17",
          "2019-12-18",
          "2019-12-19",
          "2019-12-20",
          "2019-12-23",
          "2019-12-24",
          "2019-12-26",
          "2019-12-27",
          "2019-12-30",
          "2019-12-31",
          "2020-01-02",
          "2020-01-03",
          "2020-01-06",
          "2020-01-07",
          "2020-01-08",
          "2020-01-09",
          "2020-01-10",
          "2020-01-13",
          "2020-01-14",
          "2020-01-15",
          "2020-01-16",
          "2020-01-17",
          "2020-01-21",
          "2020-01-22",
          "2020-01-23",
          "2020-01-24",
          "2020-01-27",
          "2020-01-28",
          "2020-01-29",
          "2020-01-30",
          "2020-01-31",
          "2020-02-03",
          "2020-02-04",
          "2020-02-05",
          "2020-02-06",
          "2020-02-07",
          "2020-02-10",
          "2020-02-11",
          "2020-02-12",
          "2020-02-13",
          "2020-02-14",
          "2020-02-18",
          "2020-02-19",
          "2020-02-20",
          "2020-02-21",
          "2020-02-24",
          "2020-02-25",
          "2020-02-26",
          "2020-02-27",
          "2020-02-28",
          "2020-03-02",
          "2020-03-03",
          "2020-03-04",
          "2020-03-05",
          "2020-03-06",
          "2020-03-09",
          "2020-03-10",
          "2020-03-11",
          "2020-03-12",
          "2020-03-13",
          "2020-03-16",
          "2020-03-17",
          "2020-03-18",
          "2020-03-19",
          "2020-03-20",
          "2020-03-23",
          "2020-03-24",
          "2020-03-25",
          "2020-03-26",
          "2020-03-27",
          "2020-03-30",
          "2020-03-31",
          "2020-04-01",
          "2020-04-02",
          "2020-04-03",
          "2020-04-06",
          "2020-04-07",
          "2020-04-08",
          "2020-04-09",
          "2020-04-13",
          "2020-04-14",
          "2020-04-15",
          "2020-04-16",
          "2020-04-17",
          "2020-04-20",
          "2020-04-21",
          "2020-04-22",
          "2020-04-23",
          "2020-04-24",
          "2020-04-27",
          "2020-04-28",
          "2020-04-29",
          "2020-04-30",
          "2020-05-01",
          "2020-05-04",
          "2020-05-05",
          "2020-05-06",
          "2020-05-07",
          "2020-05-08",
          "2020-05-11",
          "2020-05-12",
          "2020-05-13",
          "2020-05-14",
          "2020-05-15",
          "2020-05-18",
          "2020-05-19",
          "2020-05-20",
          "2020-05-21",
          "2020-05-22",
          "2020-05-26",
          "2020-05-27",
          "2020-05-28",
          "2020-05-29",
          "2020-06-01",
          "2020-06-02",
          "2020-06-03",
          "2020-06-04",
          "2020-06-05",
          "2020-06-08",
          "2020-06-09"
         ],
         "y": [
          75.80999755859375,
          73.8499984741211,
          76.83000183105469,
          76.52999877929688,
          76.98999786376953,
          73.58999633789062,
          72.86000061035156,
          71.01000213623047,
          71.3499984741211,
          70.80000305175781,
          71.11000061035156,
          67.69000244140625,
          67.02999877929688,
          66.08000183105469,
          65.7699966430664,
          62,
          62.060001373291016,
          64.5199966430664,
          63.45000076293945,
          66.55999755859375,
          65.48999786376953,
          70,
          69.88999938964844,
          70.38999938964844,
          70.12000274658203,
          66.88999938964844,
          66.83000183105469,
          66.80999755859375,
          69.8499984741211,
          68.38999938964844,
          68,
          68.01000213623047,
          67.73999786376953,
          70.01000213623047,
          70.08000183105469,
          69.63999938964844,
          70.98999786376953,
          69.91999816894531,
          73.16000366210938,
          74.55000305175781,
          75.16000366210938,
          74.08000183105469,
          74.5,
          68.93000030517578,
          70.0199966430664,
          69.95999908447266,
          69.66999816894531,
          62.7400016784668,
          65.94000244140625,
          64.56999969482422,
          63.52000045776367,
          62.4900016784668,
          63.540000915527344,
          66.3499984741211,
          66.16999816894531,
          67.5999984741211,
          68.18000030517578,
          66.93000030517578,
          66.1500015258789,
          66.45999908447266,
          67.44999694824219,
          66.63999938964844,
          66.79000091552734,
          68.04000091552734,
          68.72000122070312,
          67.27999877929688,
          70.31999969482422,
          71.9000015258789,
          72.55000305175781,
          72.62000274658203,
          73.08999633789062,
          74.02999877929688,
          73.16000366210938,
          76.94000244140625,
          76.11000061035156,
          75.55999755859375,
          76.7300033569336,
          75.54000091552734,
          74.47000122070312,
          73,
          70.44000244140625,
          71.51000213623047,
          73.58000183105469,
          74.54000091552734,
          76.30000305175781,
          87.66000366210938,
          85.79000091552734,
          86.98999786376953,
          87.26000213623047,
          88.63999938964844,
          89.66999816894531,
          88.68000030517578,
          88.27999877929688,
          89.86000061035156,
          90.94999694824219,
          96.38999938964844,
          103.93000030517578,
          105.29000091552734,
          101.76000213623047,
          105.01000213623047,
          107.08000183105469,
          106.87999725341797,
          113.55000305175781,
          105,
          113.11000061035156,
          117.47000122070312,
          116.80000305175781,
          125,
          114.31999969482422,
          113.75,
          108.48999786376953,
          110.30000305175781,
          109.47000122070312,
          107.47000122070312,
          107.86000061035156,
          111.0999984741211,
          118.70999908447266,
          123.7699966430664,
          130.5500030517578,
          159.55999755859375,
          135.17999267578125,
          138.11000061035156,
          141.14999389648438,
          151.6999969482422,
          150.8800048828125,
          146.1199951171875,
          137,
          121.93000030517578,
          128.1999969482422,
          122.94000244140625,
          113.75,
          117.80999755859375,
          124.51000213623047,
          135.9199981689453,
          141.88999938964844,
          151.55999755859375,
          150.25999450683594,
          150.05999755859375,
          148.99000549316406,
          143.27000427246094,
          150.25,
          169.08999633789062,
          158.8000030517578,
          164.60000610351562,
          156.72000122070312,
          146.47999572753906,
          135.1699981689453,
          138.55999755859375,
          143.44000244140625,
          144.82000732421875,
          149.58999633789062,
          157.8000030517578,
          155.39999389648438,
          166.47999572753906,
          161.0399932861328,
          167.13999938964844,
          167.91000366210938,
          174.8300018310547,
          164.69000244140625,
          173.67999267578125,
          175.47999572753906,
          172.02999877929688,
          171.05999755859375,
          164,
          161.97000122070312,
          163.5500030517578,
          179.47999572753906,
          204.14999389648438,
          208.0800018310547,
          223.8699951171875,
          210.35000610351562,
          207.60000610351562,
          209.8300018310547,
          205.42999267578125
         ]
        }
       ],
       "layout": {
        "legend": {
         "bgcolor": "#F5F6F9",
         "font": {
          "color": "#4D5663"
         }
        },
        "paper_bgcolor": "#F5F6F9",
        "plot_bgcolor": "#F5F6F9",
        "template": {
         "data": {
          "bar": [
           {
            "error_x": {
             "color": "#2a3f5f"
            },
            "error_y": {
             "color": "#2a3f5f"
            },
            "marker": {
             "line": {
              "color": "#E5ECF6",
              "width": 0.5
             }
            },
            "type": "bar"
           }
          ],
          "barpolar": [
           {
            "marker": {
             "line": {
              "color": "#E5ECF6",
              "width": 0.5
             }
            },
            "type": "barpolar"
           }
          ],
          "carpet": [
           {
            "aaxis": {
             "endlinecolor": "#2a3f5f",
             "gridcolor": "white",
             "linecolor": "white",
             "minorgridcolor": "white",
             "startlinecolor": "#2a3f5f"
            },
            "baxis": {
             "endlinecolor": "#2a3f5f",
             "gridcolor": "white",
             "linecolor": "white",
             "minorgridcolor": "white",
             "startlinecolor": "#2a3f5f"
            },
            "type": "carpet"
           }
          ],
          "choropleth": [
           {
            "colorbar": {
             "outlinewidth": 0,
             "ticks": ""
            },
            "type": "choropleth"
           }
          ],
          "contour": [
           {
            "colorbar": {
             "outlinewidth": 0,
             "ticks": ""
            },
            "colorscale": [
             [
              0,
              "#0d0887"
             ],
             [
              0.1111111111111111,
              "#46039f"
             ],
             [
              0.2222222222222222,
              "#7201a8"
             ],
             [
              0.3333333333333333,
              "#9c179e"
             ],
             [
              0.4444444444444444,
              "#bd3786"
             ],
             [
              0.5555555555555556,
              "#d8576b"
             ],
             [
              0.6666666666666666,
              "#ed7953"
             ],
             [
              0.7777777777777778,
              "#fb9f3a"
             ],
             [
              0.8888888888888888,
              "#fdca26"
             ],
             [
              1,
              "#f0f921"
             ]
            ],
            "type": "contour"
           }
          ],
          "contourcarpet": [
           {
            "colorbar": {
             "outlinewidth": 0,
             "ticks": ""
            },
            "type": "contourcarpet"
           }
          ],
          "heatmap": [
           {
            "colorbar": {
             "outlinewidth": 0,
             "ticks": ""
            },
            "colorscale": [
             [
              0,
              "#0d0887"
             ],
             [
              0.1111111111111111,
              "#46039f"
             ],
             [
              0.2222222222222222,
              "#7201a8"
             ],
             [
              0.3333333333333333,
              "#9c179e"
             ],
             [
              0.4444444444444444,
              "#bd3786"
             ],
             [
              0.5555555555555556,
              "#d8576b"
             ],
             [
              0.6666666666666666,
              "#ed7953"
             ],
             [
              0.7777777777777778,
              "#fb9f3a"
             ],
             [
              0.8888888888888888,
              "#fdca26"
             ],
             [
              1,
              "#f0f921"
             ]
            ],
            "type": "heatmap"
           }
          ],
          "heatmapgl": [
           {
            "colorbar": {
             "outlinewidth": 0,
             "ticks": ""
            },
            "colorscale": [
             [
              0,
              "#0d0887"
             ],
             [
              0.1111111111111111,
              "#46039f"
             ],
             [
              0.2222222222222222,
              "#7201a8"
             ],
             [
              0.3333333333333333,
              "#9c179e"
             ],
             [
              0.4444444444444444,
              "#bd3786"
             ],
             [
              0.5555555555555556,
              "#d8576b"
             ],
             [
              0.6666666666666666,
              "#ed7953"
             ],
             [
              0.7777777777777778,
              "#fb9f3a"
             ],
             [
              0.8888888888888888,
              "#fdca26"
             ],
             [
              1,
              "#f0f921"
             ]
            ],
            "type": "heatmapgl"
           }
          ],
          "histogram": [
           {
            "marker": {
             "colorbar": {
              "outlinewidth": 0,
              "ticks": ""
             }
            },
            "type": "histogram"
           }
          ],
          "histogram2d": [
           {
            "colorbar": {
             "outlinewidth": 0,
             "ticks": ""
            },
            "colorscale": [
             [
              0,
              "#0d0887"
             ],
             [
              0.1111111111111111,
              "#46039f"
             ],
             [
              0.2222222222222222,
              "#7201a8"
             ],
             [
              0.3333333333333333,
              "#9c179e"
             ],
             [
              0.4444444444444444,
              "#bd3786"
             ],
             [
              0.5555555555555556,
              "#d8576b"
             ],
             [
              0.6666666666666666,
              "#ed7953"
             ],
             [
              0.7777777777777778,
              "#fb9f3a"
             ],
             [
              0.8888888888888888,
              "#fdca26"
             ],
             [
              1,
              "#f0f921"
             ]
            ],
            "type": "histogram2d"
           }
          ],
          "histogram2dcontour": [
           {
            "colorbar": {
             "outlinewidth": 0,
             "ticks": ""
            },
            "colorscale": [
             [
              0,
              "#0d0887"
             ],
             [
              0.1111111111111111,
              "#46039f"
             ],
             [
              0.2222222222222222,
              "#7201a8"
             ],
             [
              0.3333333333333333,
              "#9c179e"
             ],
             [
              0.4444444444444444,
              "#bd3786"
             ],
             [
              0.5555555555555556,
              "#d8576b"
             ],
             [
              0.6666666666666666,
              "#ed7953"
             ],
             [
              0.7777777777777778,
              "#fb9f3a"
             ],
             [
              0.8888888888888888,
              "#fdca26"
             ],
             [
              1,
              "#f0f921"
             ]
            ],
            "type": "histogram2dcontour"
           }
          ],
          "mesh3d": [
           {
            "colorbar": {
             "outlinewidth": 0,
             "ticks": ""
            },
            "type": "mesh3d"
           }
          ],
          "parcoords": [
           {
            "line": {
             "colorbar": {
              "outlinewidth": 0,
              "ticks": ""
             }
            },
            "type": "parcoords"
           }
          ],
          "pie": [
           {
            "automargin": true,
            "type": "pie"
           }
          ],
          "scatter": [
           {
            "marker": {
             "colorbar": {
              "outlinewidth": 0,
              "ticks": ""
             }
            },
            "type": "scatter"
           }
          ],
          "scatter3d": [
           {
            "line": {
             "colorbar": {
              "outlinewidth": 0,
              "ticks": ""
             }
            },
            "marker": {
             "colorbar": {
              "outlinewidth": 0,
              "ticks": ""
             }
            },
            "type": "scatter3d"
           }
          ],
          "scattercarpet": [
           {
            "marker": {
             "colorbar": {
              "outlinewidth": 0,
              "ticks": ""
             }
            },
            "type": "scattercarpet"
           }
          ],
          "scattergeo": [
           {
            "marker": {
             "colorbar": {
              "outlinewidth": 0,
              "ticks": ""
             }
            },
            "type": "scattergeo"
           }
          ],
          "scattergl": [
           {
            "marker": {
             "colorbar": {
              "outlinewidth": 0,
              "ticks": ""
             }
            },
            "type": "scattergl"
           }
          ],
          "scattermapbox": [
           {
            "marker": {
             "colorbar": {
              "outlinewidth": 0,
              "ticks": ""
             }
            },
            "type": "scattermapbox"
           }
          ],
          "scatterpolar": [
           {
            "marker": {
             "colorbar": {
              "outlinewidth": 0,
              "ticks": ""
             }
            },
            "type": "scatterpolar"
           }
          ],
          "scatterpolargl": [
           {
            "marker": {
             "colorbar": {
              "outlinewidth": 0,
              "ticks": ""
             }
            },
            "type": "scatterpolargl"
           }
          ],
          "scatterternary": [
           {
            "marker": {
             "colorbar": {
              "outlinewidth": 0,
              "ticks": ""
             }
            },
            "type": "scatterternary"
           }
          ],
          "surface": [
           {
            "colorbar": {
             "outlinewidth": 0,
             "ticks": ""
            },
            "colorscale": [
             [
              0,
              "#0d0887"
             ],
             [
              0.1111111111111111,
              "#46039f"
             ],
             [
              0.2222222222222222,
              "#7201a8"
             ],
             [
              0.3333333333333333,
              "#9c179e"
             ],
             [
              0.4444444444444444,
              "#bd3786"
             ],
             [
              0.5555555555555556,
              "#d8576b"
             ],
             [
              0.6666666666666666,
              "#ed7953"
             ],
             [
              0.7777777777777778,
              "#fb9f3a"
             ],
             [
              0.8888888888888888,
              "#fdca26"
             ],
             [
              1,
              "#f0f921"
             ]
            ],
            "type": "surface"
           }
          ],
          "table": [
           {
            "cells": {
             "fill": {
              "color": "#EBF0F8"
             },
             "line": {
              "color": "white"
             }
            },
            "header": {
             "fill": {
              "color": "#C8D4E3"
             },
             "line": {
              "color": "white"
             }
            },
            "type": "table"
           }
          ]
         },
         "layout": {
          "annotationdefaults": {
           "arrowcolor": "#2a3f5f",
           "arrowhead": 0,
           "arrowwidth": 1
          },
          "coloraxis": {
           "colorbar": {
            "outlinewidth": 0,
            "ticks": ""
           }
          },
          "colorscale": {
           "diverging": [
            [
             0,
             "#8e0152"
            ],
            [
             0.1,
             "#c51b7d"
            ],
            [
             0.2,
             "#de77ae"
            ],
            [
             0.3,
             "#f1b6da"
            ],
            [
             0.4,
             "#fde0ef"
            ],
            [
             0.5,
             "#f7f7f7"
            ],
            [
             0.6,
             "#e6f5d0"
            ],
            [
             0.7,
             "#b8e186"
            ],
            [
             0.8,
             "#7fbc41"
            ],
            [
             0.9,
             "#4d9221"
            ],
            [
             1,
             "#276419"
            ]
           ],
           "sequential": [
            [
             0,
             "#0d0887"
            ],
            [
             0.1111111111111111,
             "#46039f"
            ],
            [
             0.2222222222222222,
             "#7201a8"
            ],
            [
             0.3333333333333333,
             "#9c179e"
            ],
            [
             0.4444444444444444,
             "#bd3786"
            ],
            [
             0.5555555555555556,
             "#d8576b"
            ],
            [
             0.6666666666666666,
             "#ed7953"
            ],
            [
             0.7777777777777778,
             "#fb9f3a"
            ],
            [
             0.8888888888888888,
             "#fdca26"
            ],
            [
             1,
             "#f0f921"
            ]
           ],
           "sequentialminus": [
            [
             0,
             "#0d0887"
            ],
            [
             0.1111111111111111,
             "#46039f"
            ],
            [
             0.2222222222222222,
             "#7201a8"
            ],
            [
             0.3333333333333333,
             "#9c179e"
            ],
            [
             0.4444444444444444,
             "#bd3786"
            ],
            [
             0.5555555555555556,
             "#d8576b"
            ],
            [
             0.6666666666666666,
             "#ed7953"
            ],
            [
             0.7777777777777778,
             "#fb9f3a"
            ],
            [
             0.8888888888888888,
             "#fdca26"
            ],
            [
             1,
             "#f0f921"
            ]
           ]
          },
          "colorway": [
           "#636efa",
           "#EF553B",
           "#00cc96",
           "#ab63fa",
           "#FFA15A",
           "#19d3f3",
           "#FF6692",
           "#B6E880",
           "#FF97FF",
           "#FECB52"
          ],
          "font": {
           "color": "#2a3f5f"
          },
          "geo": {
           "bgcolor": "white",
           "lakecolor": "white",
           "landcolor": "#E5ECF6",
           "showlakes": true,
           "showland": true,
           "subunitcolor": "white"
          },
          "hoverlabel": {
           "align": "left"
          },
          "hovermode": "closest",
          "mapbox": {
           "style": "light"
          },
          "paper_bgcolor": "white",
          "plot_bgcolor": "#E5ECF6",
          "polar": {
           "angularaxis": {
            "gridcolor": "white",
            "linecolor": "white",
            "ticks": ""
           },
           "bgcolor": "#E5ECF6",
           "radialaxis": {
            "gridcolor": "white",
            "linecolor": "white",
            "ticks": ""
           }
          },
          "scene": {
           "xaxis": {
            "backgroundcolor": "#E5ECF6",
            "gridcolor": "white",
            "gridwidth": 2,
            "linecolor": "white",
            "showbackground": true,
            "ticks": "",
            "zerolinecolor": "white"
           },
           "yaxis": {
            "backgroundcolor": "#E5ECF6",
            "gridcolor": "white",
            "gridwidth": 2,
            "linecolor": "white",
            "showbackground": true,
            "ticks": "",
            "zerolinecolor": "white"
           },
           "zaxis": {
            "backgroundcolor": "#E5ECF6",
            "gridcolor": "white",
            "gridwidth": 2,
            "linecolor": "white",
            "showbackground": true,
            "ticks": "",
            "zerolinecolor": "white"
           }
          },
          "shapedefaults": {
           "line": {
            "color": "#2a3f5f"
           }
          },
          "ternary": {
           "aaxis": {
            "gridcolor": "white",
            "linecolor": "white",
            "ticks": ""
           },
           "baxis": {
            "gridcolor": "white",
            "linecolor": "white",
            "ticks": ""
           },
           "bgcolor": "#E5ECF6",
           "caxis": {
            "gridcolor": "white",
            "linecolor": "white",
            "ticks": ""
           }
          },
          "title": {
           "x": 0.05
          },
          "xaxis": {
           "automargin": true,
           "gridcolor": "white",
           "linecolor": "white",
           "ticks": "",
           "title": {
            "standoff": 15
           },
           "zerolinecolor": "white",
           "zerolinewidth": 2
          },
          "yaxis": {
           "automargin": true,
           "gridcolor": "white",
           "linecolor": "white",
           "ticks": "",
           "title": {
            "standoff": 15
           },
           "zerolinecolor": "white",
           "zerolinewidth": 2
          }
         }
        },
        "title": {
         "font": {
          "color": "#4D5663"
         }
        },
        "xaxis": {
         "gridcolor": "#E1E5ED",
         "showgrid": true,
         "tickfont": {
          "color": "#4D5663"
         },
         "title": {
          "font": {
           "color": "#4D5663"
          },
          "text": ""
         },
         "zerolinecolor": "#E1E5ED"
        },
        "yaxis": {
         "gridcolor": "#E1E5ED",
         "showgrid": true,
         "tickfont": {
          "color": "#4D5663"
         },
         "title": {
          "font": {
           "color": "#4D5663"
          },
          "text": ""
         },
         "zerolinecolor": "#E1E5ED"
        }
       }
      },
      "text/html": [
       "<div>\n",
       "        \n",
       "        \n",
       "            <div id=\"25a04b3e-7b9f-4c81-a1ac-f539de54f7d0\" class=\"plotly-graph-div\" style=\"height:525px; width:100%;\"></div>\n",
       "            <script type=\"text/javascript\">\n",
       "                require([\"plotly\"], function(Plotly) {\n",
       "                    window.PLOTLYENV=window.PLOTLYENV || {};\n",
       "                    window.PLOTLYENV.BASE_URL='https://plot.ly';\n",
       "                    \n",
       "                if (document.getElementById(\"25a04b3e-7b9f-4c81-a1ac-f539de54f7d0\")) {\n",
       "                    Plotly.newPlot(\n",
       "                        '25a04b3e-7b9f-4c81-a1ac-f539de54f7d0',\n",
       "                        [{\"line\": {\"color\": \"rgba(255, 153, 51, 1.0)\", \"dash\": \"solid\", \"shape\": \"linear\", \"width\": 3.5}, \"mode\": \"lines\", \"name\": \"MSFT\", \"text\": \"\", \"type\": \"scatter\", \"x\": [\"2019-10-01\", \"2019-10-02\", \"2019-10-03\", \"2019-10-04\", \"2019-10-07\", \"2019-10-08\", \"2019-10-09\", \"2019-10-10\", \"2019-10-11\", \"2019-10-14\", \"2019-10-15\", \"2019-10-16\", \"2019-10-17\", \"2019-10-18\", \"2019-10-21\", \"2019-10-22\", \"2019-10-23\", \"2019-10-24\", \"2019-10-25\", \"2019-10-28\", \"2019-10-29\", \"2019-10-30\", \"2019-10-31\", \"2019-11-01\", \"2019-11-04\", \"2019-11-05\", \"2019-11-06\", \"2019-11-07\", \"2019-11-08\", \"2019-11-11\", \"2019-11-12\", \"2019-11-13\", \"2019-11-14\", \"2019-11-15\", \"2019-11-18\", \"2019-11-19\", \"2019-11-20\", \"2019-11-21\", \"2019-11-22\", \"2019-11-25\", \"2019-11-26\", \"2019-11-27\", \"2019-11-29\", \"2019-12-02\", \"2019-12-03\", \"2019-12-04\", \"2019-12-05\", \"2019-12-06\", \"2019-12-09\", \"2019-12-10\", \"2019-12-11\", \"2019-12-12\", \"2019-12-13\", \"2019-12-16\", \"2019-12-17\", \"2019-12-18\", \"2019-12-19\", \"2019-12-20\", \"2019-12-23\", \"2019-12-24\", \"2019-12-26\", \"2019-12-27\", \"2019-12-30\", \"2019-12-31\", \"2020-01-02\", \"2020-01-03\", \"2020-01-06\", \"2020-01-07\", \"2020-01-08\", \"2020-01-09\", \"2020-01-10\", \"2020-01-13\", \"2020-01-14\", \"2020-01-15\", \"2020-01-16\", \"2020-01-17\", \"2020-01-21\", \"2020-01-22\", \"2020-01-23\", \"2020-01-24\", \"2020-01-27\", \"2020-01-28\", \"2020-01-29\", \"2020-01-30\", \"2020-01-31\", \"2020-02-03\", \"2020-02-04\", \"2020-02-05\", \"2020-02-06\", \"2020-02-07\", \"2020-02-10\", \"2020-02-11\", \"2020-02-12\", \"2020-02-13\", \"2020-02-14\", \"2020-02-18\", \"2020-02-19\", \"2020-02-20\", \"2020-02-21\", \"2020-02-24\", \"2020-02-25\", \"2020-02-26\", \"2020-02-27\", \"2020-02-28\", \"2020-03-02\", \"2020-03-03\", \"2020-03-04\", \"2020-03-05\", \"2020-03-06\", \"2020-03-09\", \"2020-03-10\", \"2020-03-11\", \"2020-03-12\", \"2020-03-13\", \"2020-03-16\", \"2020-03-17\", \"2020-03-18\", \"2020-03-19\", \"2020-03-20\", \"2020-03-23\", \"2020-03-24\", \"2020-03-25\", \"2020-03-26\", \"2020-03-27\", \"2020-03-30\", \"2020-03-31\", \"2020-04-01\", \"2020-04-02\", \"2020-04-03\", \"2020-04-06\", \"2020-04-07\", \"2020-04-08\", \"2020-04-09\", \"2020-04-13\", \"2020-04-14\", \"2020-04-15\", \"2020-04-16\", \"2020-04-17\", \"2020-04-20\", \"2020-04-21\", \"2020-04-22\", \"2020-04-23\", \"2020-04-24\", \"2020-04-27\", \"2020-04-28\", \"2020-04-29\", \"2020-04-30\", \"2020-05-01\", \"2020-05-04\", \"2020-05-05\", \"2020-05-06\", \"2020-05-07\", \"2020-05-08\", \"2020-05-11\", \"2020-05-12\", \"2020-05-13\", \"2020-05-14\", \"2020-05-15\", \"2020-05-18\", \"2020-05-19\", \"2020-05-20\", \"2020-05-21\", \"2020-05-22\", \"2020-05-26\", \"2020-05-27\", \"2020-05-28\", \"2020-05-29\", \"2020-06-01\", \"2020-06-02\", \"2020-06-03\", \"2020-06-04\", \"2020-06-05\", \"2020-06-08\", \"2020-06-09\"], \"y\": [137.07000732421875, 134.64999389648438, 136.27999877929688, 138.1199951171875, 137.1199951171875, 135.6699981689453, 138.24000549316406, 139.10000610351562, 139.67999267578125, 139.5500030517578, 141.57000732421875, 140.41000366210938, 139.69000244140625, 137.41000366210938, 138.42999267578125, 136.3699951171875, 137.24000549316406, 139.94000244140625, 140.72999572753906, 144.19000244140625, 142.8300018310547, 144.61000061035156, 143.3699951171875, 143.72000122070312, 144.5500030517578, 144.4600067138672, 144.05999755859375, 144.25999450683594, 145.9600067138672, 146.11000061035156, 147.07000732421875, 147.30999755859375, 148.05999755859375, 149.97000122070312, 150.33999633789062, 150.38999938964844, 149.6199951171875, 149.47999572753906, 149.58999633789062, 151.22999572753906, 152.02999877929688, 152.32000732421875, 151.3800048828125, 149.5500030517578, 149.30999755859375, 149.85000610351562, 149.92999267578125, 151.75, 151.36000061035156, 151.1300048828125, 151.6999969482422, 153.24000549316406, 154.52999877929688, 155.52999877929688, 154.69000244140625, 154.3699951171875, 155.7100067138672, 157.41000366210938, 157.41000366210938, 157.3800048828125, 158.6699981689453, 158.9600067138672, 157.58999633789062, 157.6999969482422, 160.6199951171875, 158.6199951171875, 159.02999877929688, 157.5800018310547, 160.08999633789062, 162.08999633789062, 161.33999633789062, 163.27999877929688, 162.1300048828125, 163.17999267578125, 166.1699981689453, 167.10000610351562, 166.5, 165.6999969482422, 166.72000122070312, 165.0399932861328, 162.27999877929688, 165.4600067138672, 168.0399932861328, 172.77999877929688, 170.22999572753906, 174.3800048828125, 180.1199951171875, 179.89999389648438, 183.6300048828125, 183.88999938964844, 188.6999969482422, 184.44000244140625, 184.7100067138672, 183.7100067138672, 185.35000610351562, 187.22999572753906, 187.27999877929688, 184.4199981689453, 178.58999633789062, 170.88999938964844, 168.07000732421875, 170.1699981689453, 158.17999267578125, 162.00999450683594, 172.7899932861328, 164.50999450683594, 170.5500030517578, 166.27000427246094, 161.57000732421875, 150.6199951171875, 160.9199981689453, 153.6300048828125, 139.05999755859375, 158.8300018310547, 135.4199981689453, 146.57000732421875, 140.39999389648438, 142.7100067138672, 137.35000610351562, 135.97999572753906, 148.33999633789062, 146.9199981689453, 156.11000061035156, 149.6999969482422, 160.22999572753906, 157.7100067138672, 152.11000061035156, 155.25999450683594, 153.8300018310547, 165.27000427246094, 163.49000549316406, 165.1300048828125, 165.13999938964844, 165.50999450683594, 173.6999969482422, 171.8800048828125, 177.0399932861328, 178.60000610351562, 175.05999755859375, 167.82000732421875, 173.52000427246094, 171.4199981689453, 174.5500030517578, 174.0500030517578, 169.80999755859375, 177.42999267578125, 179.2100067138672, 174.57000732421875, 178.83999633789062, 180.75999450683594, 182.5399932861328, 183.60000610351562, 184.67999267578125, 186.74000549316406, 182.50999450683594, 179.75, 180.52999877929688, 183.16000366210938, 184.91000366210938, 183.6300048828125, 185.66000366210938, 183.42999267578125, 183.50999450683594, 181.57000732421875, 181.80999755859375, 181.39999389648438, 183.25, 182.8300018310547, 184.91000366210938, 185.36000061035156, 182.9199981689453, 187.1999969482422, 188.36000061035156, 189.8000030517578]}, {\"line\": {\"color\": \"rgba(55, 128, 191, 1.0)\", \"dash\": \"solid\", \"shape\": \"linear\", \"width\": 3.5}, \"mode\": \"lines\", \"name\": \"BABA\", \"text\": \"\", \"type\": \"scatter\", \"x\": [\"2019-10-01\", \"2019-10-02\", \"2019-10-03\", \"2019-10-04\", \"2019-10-07\", \"2019-10-08\", \"2019-10-09\", \"2019-10-10\", \"2019-10-11\", \"2019-10-14\", \"2019-10-15\", \"2019-10-16\", \"2019-10-17\", \"2019-10-18\", \"2019-10-21\", \"2019-10-22\", \"2019-10-23\", \"2019-10-24\", \"2019-10-25\", \"2019-10-28\", \"2019-10-29\", \"2019-10-30\", \"2019-10-31\", \"2019-11-01\", \"2019-11-04\", \"2019-11-05\", \"2019-11-06\", \"2019-11-07\", \"2019-11-08\", \"2019-11-11\", \"2019-11-12\", \"2019-11-13\", \"2019-11-14\", \"2019-11-15\", \"2019-11-18\", \"2019-11-19\", \"2019-11-20\", \"2019-11-21\", \"2019-11-22\", \"2019-11-25\", \"2019-11-26\", \"2019-11-27\", \"2019-11-29\", \"2019-12-02\", \"2019-12-03\", \"2019-12-04\", \"2019-12-05\", \"2019-12-06\", \"2019-12-09\", \"2019-12-10\", \"2019-12-11\", \"2019-12-12\", \"2019-12-13\", \"2019-12-16\", \"2019-12-17\", \"2019-12-18\", \"2019-12-19\", \"2019-12-20\", \"2019-12-23\", \"2019-12-24\", \"2019-12-26\", \"2019-12-27\", \"2019-12-30\", \"2019-12-31\", \"2020-01-02\", \"2020-01-03\", \"2020-01-06\", \"2020-01-07\", \"2020-01-08\", \"2020-01-09\", \"2020-01-10\", \"2020-01-13\", \"2020-01-14\", \"2020-01-15\", \"2020-01-16\", \"2020-01-17\", \"2020-01-21\", \"2020-01-22\", \"2020-01-23\", \"2020-01-24\", \"2020-01-27\", \"2020-01-28\", \"2020-01-29\", \"2020-01-30\", \"2020-01-31\", \"2020-02-03\", \"2020-02-04\", \"2020-02-05\", \"2020-02-06\", \"2020-02-07\", \"2020-02-10\", \"2020-02-11\", \"2020-02-12\", \"2020-02-13\", \"2020-02-14\", \"2020-02-18\", \"2020-02-19\", \"2020-02-20\", \"2020-02-21\", \"2020-02-24\", \"2020-02-25\", \"2020-02-26\", \"2020-02-27\", \"2020-02-28\", \"2020-03-02\", \"2020-03-03\", \"2020-03-04\", \"2020-03-05\", \"2020-03-06\", \"2020-03-09\", \"2020-03-10\", \"2020-03-11\", \"2020-03-12\", \"2020-03-13\", \"2020-03-16\", \"2020-03-17\", \"2020-03-18\", \"2020-03-19\", \"2020-03-20\", \"2020-03-23\", \"2020-03-24\", \"2020-03-25\", \"2020-03-26\", \"2020-03-27\", \"2020-03-30\", \"2020-03-31\", \"2020-04-01\", \"2020-04-02\", \"2020-04-03\", \"2020-04-06\", \"2020-04-07\", \"2020-04-08\", \"2020-04-09\", \"2020-04-13\", \"2020-04-14\", \"2020-04-15\", \"2020-04-16\", \"2020-04-17\", \"2020-04-20\", \"2020-04-21\", \"2020-04-22\", \"2020-04-23\", \"2020-04-24\", \"2020-04-27\", \"2020-04-28\", \"2020-04-29\", \"2020-04-30\", \"2020-05-01\", \"2020-05-04\", \"2020-05-05\", \"2020-05-06\", \"2020-05-07\", \"2020-05-08\", \"2020-05-11\", \"2020-05-12\", \"2020-05-13\", \"2020-05-14\", \"2020-05-15\", \"2020-05-18\", \"2020-05-19\", \"2020-05-20\", \"2020-05-21\", \"2020-05-22\", \"2020-05-26\", \"2020-05-27\", \"2020-05-28\", \"2020-05-29\", \"2020-06-01\", \"2020-06-02\", \"2020-06-03\", \"2020-06-04\", \"2020-06-05\", \"2020-06-08\", \"2020-06-09\"], \"y\": [165.14999389648438, 165.77000427246094, 169.47999572753906, 170.33999633789062, 168.32000732421875, 161.92999267578125, 165.19000244140625, 166.07000732421875, 172.94000244140625, 171.16000366210938, 175.2899932861328, 177.1199951171875, 176.85000610351562, 169.1300048828125, 173.52000427246094, 169.88999938964844, 169.9199981689453, 172.5500030517578, 174.30999755859375, 178.67999267578125, 176.88999938964844, 177.52999877929688, 176.6699981689453, 176.4600067138672, 179.69000244140625, 182.0, 184.16000366210938, 186.66000366210938, 187.16000366210938, 186.7100067138672, 186.97000122070312, 182.47999572753906, 182.8000030517578, 185.49000549316406, 184.61000061035156, 185.25, 182.35000610351562, 184.86000061035156, 186.77999877929688, 190.4499969482422, 194.6999969482422, 200.82000732421875, 200.0, 196.30999755859375, 194.89999389648438, 193.74000549316406, 200.0, 201.88999938964844, 198.74000549316406, 200.4499969482422, 204.63999938964844, 204.5, 204.91000366210938, 206.97000122070312, 208.17999267578125, 210.0, 210.1300048828125, 212.25, 214.8300018310547, 214.25999450683594, 216.3800048828125, 215.47000122070312, 212.91000366210938, 212.10000610351562, 219.77000427246094, 217.0, 216.63999938964844, 217.6300048828125, 218.0, 221.77999877929688, 223.8300018310547, 230.47999572753906, 226.49000549316406, 225.05999755859375, 223.94000244140625, 227.42999267578125, 222.25999450683594, 222.3699951171875, 219.1300048828125, 213.75, 205.47000122070312, 210.22999572753906, 212.02000427246094, 208.5800018310547, 206.58999633789062, 213.10000610351562, 222.8800048828125, 220.22000122070312, 220.89999389648438, 216.52999877929688, 215.77000427246094, 217.2100067138672, 224.30999755859375, 220.36000061035156, 219.6300048828125, 220.52000427246094, 222.13999938964844, 218.0399932861328, 212.58999633789062, 206.16000366210938, 205.61000061035156, 208.74000549316406, 205.02999877929688, 208.0, 210.97999572753906, 207.41000366210938, 211.9600067138672, 211.4600067138672, 204.63999938964844, 197.66000366210938, 206.38999938964844, 198.91000366210938, 185.10000610351562, 194.0, 178.85000610351562, 184.80999755859375, 180.0, 180.8800048828125, 181.3000030517578, 176.33999633789062, 185.75, 188.55999755859375, 195.32000732421875, 188.58999633789062, 191.27000427246094, 194.47999572753906, 187.55999755859375, 188.89999389648438, 187.11000061035156, 196.4499969482422, 198.0, 195.97999572753906, 196.3699951171875, 199.44000244140625, 204.77999877929688, 208.1699981689453, 212.66000366210938, 209.5, 212.1300048828125, 207.33999633789062, 209.9600067138672, 205.24000549316406, 204.36000061035156, 203.69000244140625, 201.14999389648438, 206.6999969482422, 202.6699981689453, 194.47999572753906, 191.14999389648438, 195.02000427246094, 195.1699981689453, 196.49000549316406, 201.19000244140625, 205.39999389648438, 200.30999755859375, 199.4600067138672, 201.3000030517578, 203.67999267578125, 215.27999877929688, 217.1999969482422, 216.7899932861328, 212.16000366210938, 199.6999969482422, 201.72000122070312, 201.17999267578125, 199.49000549316406, 207.38999938964844, 206.57000732421875, 214.3300018310547, 218.61000061035156, 218.0399932861328, 219.5500030517578, 219.0, 220.72000122070312]}, {\"line\": {\"color\": \"rgba(50, 171, 96, 1.0)\", \"dash\": \"solid\", \"shape\": \"linear\", \"width\": 3.5}, \"mode\": \"lines\", \"name\": \"AAPL\", \"text\": \"\", \"type\": \"scatter\", \"x\": [\"2019-10-01\", \"2019-10-02\", \"2019-10-03\", \"2019-10-04\", \"2019-10-07\", \"2019-10-08\", \"2019-10-09\", \"2019-10-10\", \"2019-10-11\", \"2019-10-14\", \"2019-10-15\", \"2019-10-16\", \"2019-10-17\", \"2019-10-18\", \"2019-10-21\", \"2019-10-22\", \"2019-10-23\", \"2019-10-24\", \"2019-10-25\", \"2019-10-28\", \"2019-10-29\", \"2019-10-30\", \"2019-10-31\", \"2019-11-01\", \"2019-11-04\", \"2019-11-05\", \"2019-11-06\", \"2019-11-07\", \"2019-11-08\", \"2019-11-11\", \"2019-11-12\", \"2019-11-13\", \"2019-11-14\", \"2019-11-15\", \"2019-11-18\", \"2019-11-19\", \"2019-11-20\", \"2019-11-21\", \"2019-11-22\", \"2019-11-25\", \"2019-11-26\", \"2019-11-27\", \"2019-11-29\", \"2019-12-02\", \"2019-12-03\", \"2019-12-04\", \"2019-12-05\", \"2019-12-06\", \"2019-12-09\", \"2019-12-10\", \"2019-12-11\", \"2019-12-12\", \"2019-12-13\", \"2019-12-16\", \"2019-12-17\", \"2019-12-18\", \"2019-12-19\", \"2019-12-20\", \"2019-12-23\", \"2019-12-24\", \"2019-12-26\", \"2019-12-27\", \"2019-12-30\", \"2019-12-31\", \"2020-01-02\", \"2020-01-03\", \"2020-01-06\", \"2020-01-07\", \"2020-01-08\", \"2020-01-09\", \"2020-01-10\", \"2020-01-13\", \"2020-01-14\", \"2020-01-15\", \"2020-01-16\", \"2020-01-17\", \"2020-01-21\", \"2020-01-22\", \"2020-01-23\", \"2020-01-24\", \"2020-01-27\", \"2020-01-28\", \"2020-01-29\", \"2020-01-30\", \"2020-01-31\", \"2020-02-03\", \"2020-02-04\", \"2020-02-05\", \"2020-02-06\", \"2020-02-07\", \"2020-02-10\", \"2020-02-11\", \"2020-02-12\", \"2020-02-13\", \"2020-02-14\", \"2020-02-18\", \"2020-02-19\", \"2020-02-20\", \"2020-02-21\", \"2020-02-24\", \"2020-02-25\", \"2020-02-26\", \"2020-02-27\", \"2020-02-28\", \"2020-03-02\", \"2020-03-03\", \"2020-03-04\", \"2020-03-05\", \"2020-03-06\", \"2020-03-09\", \"2020-03-10\", \"2020-03-11\", \"2020-03-12\", \"2020-03-13\", \"2020-03-16\", \"2020-03-17\", \"2020-03-18\", \"2020-03-19\", \"2020-03-20\", \"2020-03-23\", \"2020-03-24\", \"2020-03-25\", \"2020-03-26\", \"2020-03-27\", \"2020-03-30\", \"2020-03-31\", \"2020-04-01\", \"2020-04-02\", \"2020-04-03\", \"2020-04-06\", \"2020-04-07\", \"2020-04-08\", \"2020-04-09\", \"2020-04-13\", \"2020-04-14\", \"2020-04-15\", \"2020-04-16\", \"2020-04-17\", \"2020-04-20\", \"2020-04-21\", \"2020-04-22\", \"2020-04-23\", \"2020-04-24\", \"2020-04-27\", \"2020-04-28\", \"2020-04-29\", \"2020-04-30\", \"2020-05-01\", \"2020-05-04\", \"2020-05-05\", \"2020-05-06\", \"2020-05-07\", \"2020-05-08\", \"2020-05-11\", \"2020-05-12\", \"2020-05-13\", \"2020-05-14\", \"2020-05-15\", \"2020-05-18\", \"2020-05-19\", \"2020-05-20\", \"2020-05-21\", \"2020-05-22\", \"2020-05-26\", \"2020-05-27\", \"2020-05-28\", \"2020-05-29\", \"2020-06-01\", \"2020-06-02\", \"2020-06-03\", \"2020-06-04\", \"2020-06-05\", \"2020-06-08\", \"2020-06-09\"], \"y\": [224.58999633789062, 218.9600067138672, 220.82000732421875, 227.00999450683594, 227.05999755859375, 224.39999389648438, 227.02999877929688, 230.08999633789062, 236.2100067138672, 235.8699951171875, 235.32000732421875, 234.3699951171875, 235.27999877929688, 236.41000366210938, 240.50999450683594, 239.9600067138672, 243.17999267578125, 243.5800018310547, 246.5800018310547, 249.0500030517578, 243.2899932861328, 243.25999450683594, 248.75999450683594, 255.82000732421875, 257.5, 257.1300048828125, 257.239990234375, 259.42999267578125, 260.1400146484375, 262.20001220703125, 261.9599914550781, 264.4700012207031, 262.6400146484375, 265.760009765625, 267.1000061035156, 266.2900085449219, 263.19000244140625, 262.010009765625, 261.7799987792969, 266.3699951171875, 264.2900085449219, 267.8399963378906, 267.25, 264.1600036621094, 259.45001220703125, 261.739990234375, 265.5799865722656, 270.7099914550781, 266.9200134277344, 268.4800109863281, 270.7699890136719, 271.4599914550781, 275.1499938964844, 279.8599853515625, 280.4100036621094, 279.739990234375, 280.0199890136719, 279.44000244140625, 284.0, 284.2699890136719, 289.9100036621094, 289.79998779296875, 291.5199890136719, 293.6499938964844, 300.3500061035156, 297.42999267578125, 299.79998779296875, 298.3900146484375, 303.19000244140625, 309.6300048828125, 310.3299865722656, 316.9599914550781, 312.67999267578125, 311.3399963378906, 315.239990234375, 318.7300109863281, 316.57000732421875, 317.70001220703125, 319.2300109863281, 318.30999755859375, 308.95001220703125, 317.69000244140625, 324.3399963378906, 323.8699951171875, 309.510009765625, 308.6600036621094, 318.8500061035156, 321.45001220703125, 325.2099914550781, 320.0299987792969, 321.54998779296875, 319.6099853515625, 327.20001220703125, 324.8699951171875, 324.95001220703125, 319.0, 323.6199951171875, 320.29998779296875, 313.04998779296875, 298.17999267578125, 288.0799865722656, 292.6499938964844, 273.5199890136719, 273.3599853515625, 298.80999755859375, 289.32000732421875, 302.739990234375, 292.9200134277344, 289.0299987792969, 266.1700134277344, 285.3399963378906, 275.42999267578125, 248.22999572753906, 277.9700012207031, 242.2100067138672, 252.86000061035156, 246.6699981689453, 244.77999877929688, 229.24000549316406, 224.3699951171875, 246.8800048828125, 245.52000427246094, 258.44000244140625, 247.74000549316406, 254.80999755859375, 254.2899932861328, 240.91000366210938, 244.92999267578125, 241.41000366210938, 262.4700012207031, 259.42999267578125, 266.07000732421875, 267.989990234375, 273.25, 287.04998779296875, 284.42999267578125, 286.69000244140625, 282.79998779296875, 276.92999267578125, 268.3699951171875, 276.1000061035156, 275.0299987792969, 282.9700012207031, 283.1700134277344, 278.5799865722656, 287.7300109863281, 293.79998779296875, 289.07000732421875, 293.1600036621094, 297.55999755859375, 300.6300048828125, 303.739990234375, 310.1300048828125, 315.010009765625, 311.4100036621094, 307.6499938964844, 309.5400085449219, 307.7099914550781, 314.9599914550781, 313.1400146484375, 319.2300109863281, 316.8500061035156, 318.8900146484375, 316.7300109863281, 318.1099853515625, 318.25, 317.94000244140625, 321.8500061035156, 323.3399963378906, 325.1199951171875, 322.32000732421875, 331.5, 333.4599914550781, 343.989990234375]}, {\"line\": {\"color\": \"rgba(128, 0, 128, 1.0)\", \"dash\": \"solid\", \"shape\": \"linear\", \"width\": 3.5}, \"mode\": \"lines\", \"name\": \"MTCH\", \"text\": \"\", \"type\": \"scatter\", \"x\": [\"2019-10-01\", \"2019-10-02\", \"2019-10-03\", \"2019-10-04\", \"2019-10-07\", \"2019-10-08\", \"2019-10-09\", \"2019-10-10\", \"2019-10-11\", \"2019-10-14\", \"2019-10-15\", \"2019-10-16\", \"2019-10-17\", \"2019-10-18\", \"2019-10-21\", \"2019-10-22\", \"2019-10-23\", \"2019-10-24\", \"2019-10-25\", \"2019-10-28\", \"2019-10-29\", \"2019-10-30\", \"2019-10-31\", \"2019-11-01\", \"2019-11-04\", \"2019-11-05\", \"2019-11-06\", \"2019-11-07\", \"2019-11-08\", \"2019-11-11\", \"2019-11-12\", \"2019-11-13\", \"2019-11-14\", \"2019-11-15\", \"2019-11-18\", \"2019-11-19\", \"2019-11-20\", \"2019-11-21\", \"2019-11-22\", \"2019-11-25\", \"2019-11-26\", \"2019-11-27\", \"2019-11-29\", \"2019-12-02\", \"2019-12-03\", \"2019-12-04\", \"2019-12-05\", \"2019-12-06\", \"2019-12-09\", \"2019-12-10\", \"2019-12-11\", \"2019-12-12\", \"2019-12-13\", \"2019-12-16\", \"2019-12-17\", \"2019-12-18\", \"2019-12-19\", \"2019-12-20\", \"2019-12-23\", \"2019-12-24\", \"2019-12-26\", \"2019-12-27\", \"2019-12-30\", \"2019-12-31\", \"2020-01-02\", \"2020-01-03\", \"2020-01-06\", \"2020-01-07\", \"2020-01-08\", \"2020-01-09\", \"2020-01-10\", \"2020-01-13\", \"2020-01-14\", \"2020-01-15\", \"2020-01-16\", \"2020-01-17\", \"2020-01-21\", \"2020-01-22\", \"2020-01-23\", \"2020-01-24\", \"2020-01-27\", \"2020-01-28\", \"2020-01-29\", \"2020-01-30\", \"2020-01-31\", \"2020-02-03\", \"2020-02-04\", \"2020-02-05\", \"2020-02-06\", \"2020-02-07\", \"2020-02-10\", \"2020-02-11\", \"2020-02-12\", \"2020-02-13\", \"2020-02-14\", \"2020-02-18\", \"2020-02-19\", \"2020-02-20\", \"2020-02-21\", \"2020-02-24\", \"2020-02-25\", \"2020-02-26\", \"2020-02-27\", \"2020-02-28\", \"2020-03-02\", \"2020-03-03\", \"2020-03-04\", \"2020-03-05\", \"2020-03-06\", \"2020-03-09\", \"2020-03-10\", \"2020-03-11\", \"2020-03-12\", \"2020-03-13\", \"2020-03-16\", \"2020-03-17\", \"2020-03-18\", \"2020-03-19\", \"2020-03-20\", \"2020-03-23\", \"2020-03-24\", \"2020-03-25\", \"2020-03-26\", \"2020-03-27\", \"2020-03-30\", \"2020-03-31\", \"2020-04-01\", \"2020-04-02\", \"2020-04-03\", \"2020-04-06\", \"2020-04-07\", \"2020-04-08\", \"2020-04-09\", \"2020-04-13\", \"2020-04-14\", \"2020-04-15\", \"2020-04-16\", \"2020-04-17\", \"2020-04-20\", \"2020-04-21\", \"2020-04-22\", \"2020-04-23\", \"2020-04-24\", \"2020-04-27\", \"2020-04-28\", \"2020-04-29\", \"2020-04-30\", \"2020-05-01\", \"2020-05-04\", \"2020-05-05\", \"2020-05-06\", \"2020-05-07\", \"2020-05-08\", \"2020-05-11\", \"2020-05-12\", \"2020-05-13\", \"2020-05-14\", \"2020-05-15\", \"2020-05-18\", \"2020-05-19\", \"2020-05-20\", \"2020-05-21\", \"2020-05-22\", \"2020-05-26\", \"2020-05-27\", \"2020-05-28\", \"2020-05-29\", \"2020-06-01\", \"2020-06-02\", \"2020-06-03\", \"2020-06-04\", \"2020-06-05\", \"2020-06-08\", \"2020-06-09\"], \"y\": [72.95999908447266, 72.37000274658203, 75.0, 74.43000030517578, 77.97000122070312, 75.54000091552734, 75.95999908447266, 76.0199966430664, 74.0999984741211, 74.0, 75.25, 76.62000274658203, 75.80000305175781, 71.55000305175781, 72.97000122070312, 71.27999877929688, 73.45999908447266, 73.86000061035156, 73.94000244140625, 73.8499984741211, 72.79000091552734, 73.7300033569336, 72.98999786376953, 73.0, 71.20999908447266, 68.7699966430664, 67.04000091552734, 69.69999694824219, 69.08000183105469, 68.69000244140625, 68.41000366210938, 68.69999694824219, 69.37999725341797, 70.08000183105469, 71.08999633789062, 71.86000061035156, 70.47000122070312, 70.04000091552734, 69.87000274658203, 69.27999877929688, 70.37000274658203, 70.1500015258789, 70.4800033569336, 68.41999816894531, 68.26000213623047, 67.9800033569336, 68.12999725341797, 67.87000274658203, 67.80999755859375, 68.25, 68.62000274658203, 69.08999633789062, 71.91000366210938, 72.30999755859375, 71.04000091552734, 71.23999786376953, 77.3499984741211, 79.86000061035156, 80.18000030517578, 80.94000244140625, 82.51000213623047, 84.02999877929688, 82.9800033569336, 82.11000061035156, 84.19000244140625, 84.0999984741211, 84.31999969482422, 83.81999969482422, 85.05000305175781, 85.75, 87.12999725341797, 89.58000183105469, 89.72000122070312, 91.0999984741211, 92.44999694824219, 91.11000061035156, 89.75, 89.55999755859375, 88.47000122070312, 85.56999969482422, 84.3499984741211, 83.95999908447266, 81.02999877929688, 81.05000305175781, 78.22000122070312, 80.72000122070312, 82.93000030517578, 76.0, 79.51000213623047, 77.75, 75.80999755859375, 74.58000183105469, 75.5, 75.20999908447266, 76.5, 76.69999694824219, 75.91999816894531, 75.1500015258789, 73.5, 70.1500015258789, 67.75, 66.04000091552734, 64.80000305175781, 65.0, 68.13999938964844, 65.80000305175781, 68.05999755859375, 66.61000061035156, 65.55999755859375, 64.04000091552734, 65.81999969482422, 63.02000045776367, 57.56999969482422, 60.470001220703125, 54.38999938964844, 57.02000045776367, 52.0, 50.7599983215332, 47.349998474121094, 48.709999084472656, 57.86000061035156, 65.5999984741211, 63.58000183105469, 62.47999954223633, 66.66999816894531, 66.04000091552734, 61.61000061035156, 62.189998626708984, 63.70000076293945, 68.41000366210938, 70.18000030517578, 69.20999908447266, 68.11000061035156, 68.4800033569336, 73.26000213623047, 74.48999786376953, 78.87000274658203, 80.0, 80.02999877929688, 76.9000015258789, 80.02999877929688, 80.37999725341797, 81.2300033569336, 78.37999725341797, 75.23999786376953, 79.58999633789062, 76.95999908447266, 74.63999938964844, 77.18000030517578, 80.0999984741211, 87.3499984741211, 82.62999725341797, 79.98999786376953, 79.94000244140625, 77.81999969482422, 74.75, 77.37000274658203, 78.16999816894531, 83.5999984741211, 85.72000122070312, 84.63999938964844, 84.0, 84.93000030517578, 85.48999786376953, 85.97000122070312, 88.93000030517578, 89.04000091552734, 91.7300033569336, 94.36000061035156, 94.01000213623047, 91.37999725341797, 90.08999633789062, 89.51000213623047, 89.69000244140625]}, {\"line\": {\"color\": \"rgba(219, 64, 82, 1.0)\", \"dash\": \"solid\", \"shape\": \"linear\", \"width\": 3.5}, \"mode\": \"lines\", \"name\": \"ZM\", \"text\": \"\", \"type\": \"scatter\", \"x\": [\"2019-10-01\", \"2019-10-02\", \"2019-10-03\", \"2019-10-04\", \"2019-10-07\", \"2019-10-08\", \"2019-10-09\", \"2019-10-10\", \"2019-10-11\", \"2019-10-14\", \"2019-10-15\", \"2019-10-16\", \"2019-10-17\", \"2019-10-18\", \"2019-10-21\", \"2019-10-22\", \"2019-10-23\", \"2019-10-24\", \"2019-10-25\", \"2019-10-28\", \"2019-10-29\", \"2019-10-30\", \"2019-10-31\", \"2019-11-01\", \"2019-11-04\", \"2019-11-05\", \"2019-11-06\", \"2019-11-07\", \"2019-11-08\", \"2019-11-11\", \"2019-11-12\", \"2019-11-13\", \"2019-11-14\", \"2019-11-15\", \"2019-11-18\", \"2019-11-19\", \"2019-11-20\", \"2019-11-21\", \"2019-11-22\", \"2019-11-25\", \"2019-11-26\", \"2019-11-27\", \"2019-11-29\", \"2019-12-02\", \"2019-12-03\", \"2019-12-04\", \"2019-12-05\", \"2019-12-06\", \"2019-12-09\", \"2019-12-10\", \"2019-12-11\", \"2019-12-12\", \"2019-12-13\", \"2019-12-16\", \"2019-12-17\", \"2019-12-18\", \"2019-12-19\", \"2019-12-20\", \"2019-12-23\", \"2019-12-24\", \"2019-12-26\", \"2019-12-27\", \"2019-12-30\", \"2019-12-31\", \"2020-01-02\", \"2020-01-03\", \"2020-01-06\", \"2020-01-07\", \"2020-01-08\", \"2020-01-09\", \"2020-01-10\", \"2020-01-13\", \"2020-01-14\", \"2020-01-15\", \"2020-01-16\", \"2020-01-17\", \"2020-01-21\", \"2020-01-22\", \"2020-01-23\", \"2020-01-24\", \"2020-01-27\", \"2020-01-28\", \"2020-01-29\", \"2020-01-30\", \"2020-01-31\", \"2020-02-03\", \"2020-02-04\", \"2020-02-05\", \"2020-02-06\", \"2020-02-07\", \"2020-02-10\", \"2020-02-11\", \"2020-02-12\", \"2020-02-13\", \"2020-02-14\", \"2020-02-18\", \"2020-02-19\", \"2020-02-20\", \"2020-02-21\", \"2020-02-24\", \"2020-02-25\", \"2020-02-26\", \"2020-02-27\", \"2020-02-28\", \"2020-03-02\", \"2020-03-03\", \"2020-03-04\", \"2020-03-05\", \"2020-03-06\", \"2020-03-09\", \"2020-03-10\", \"2020-03-11\", \"2020-03-12\", \"2020-03-13\", \"2020-03-16\", \"2020-03-17\", \"2020-03-18\", \"2020-03-19\", \"2020-03-20\", \"2020-03-23\", \"2020-03-24\", \"2020-03-25\", \"2020-03-26\", \"2020-03-27\", \"2020-03-30\", \"2020-03-31\", \"2020-04-01\", \"2020-04-02\", \"2020-04-03\", \"2020-04-06\", \"2020-04-07\", \"2020-04-08\", \"2020-04-09\", \"2020-04-13\", \"2020-04-14\", \"2020-04-15\", \"2020-04-16\", \"2020-04-17\", \"2020-04-20\", \"2020-04-21\", \"2020-04-22\", \"2020-04-23\", \"2020-04-24\", \"2020-04-27\", \"2020-04-28\", \"2020-04-29\", \"2020-04-30\", \"2020-05-01\", \"2020-05-04\", \"2020-05-05\", \"2020-05-06\", \"2020-05-07\", \"2020-05-08\", \"2020-05-11\", \"2020-05-12\", \"2020-05-13\", \"2020-05-14\", \"2020-05-15\", \"2020-05-18\", \"2020-05-19\", \"2020-05-20\", \"2020-05-21\", \"2020-05-22\", \"2020-05-26\", \"2020-05-27\", \"2020-05-28\", \"2020-05-29\", \"2020-06-01\", \"2020-06-02\", \"2020-06-03\", \"2020-06-04\", \"2020-06-05\", \"2020-06-08\", \"2020-06-09\"], \"y\": [75.80999755859375, 73.8499984741211, 76.83000183105469, 76.52999877929688, 76.98999786376953, 73.58999633789062, 72.86000061035156, 71.01000213623047, 71.3499984741211, 70.80000305175781, 71.11000061035156, 67.69000244140625, 67.02999877929688, 66.08000183105469, 65.7699966430664, 62.0, 62.060001373291016, 64.5199966430664, 63.45000076293945, 66.55999755859375, 65.48999786376953, 70.0, 69.88999938964844, 70.38999938964844, 70.12000274658203, 66.88999938964844, 66.83000183105469, 66.80999755859375, 69.8499984741211, 68.38999938964844, 68.0, 68.01000213623047, 67.73999786376953, 70.01000213623047, 70.08000183105469, 69.63999938964844, 70.98999786376953, 69.91999816894531, 73.16000366210938, 74.55000305175781, 75.16000366210938, 74.08000183105469, 74.5, 68.93000030517578, 70.0199966430664, 69.95999908447266, 69.66999816894531, 62.7400016784668, 65.94000244140625, 64.56999969482422, 63.52000045776367, 62.4900016784668, 63.540000915527344, 66.3499984741211, 66.16999816894531, 67.5999984741211, 68.18000030517578, 66.93000030517578, 66.1500015258789, 66.45999908447266, 67.44999694824219, 66.63999938964844, 66.79000091552734, 68.04000091552734, 68.72000122070312, 67.27999877929688, 70.31999969482422, 71.9000015258789, 72.55000305175781, 72.62000274658203, 73.08999633789062, 74.02999877929688, 73.16000366210938, 76.94000244140625, 76.11000061035156, 75.55999755859375, 76.7300033569336, 75.54000091552734, 74.47000122070312, 73.0, 70.44000244140625, 71.51000213623047, 73.58000183105469, 74.54000091552734, 76.30000305175781, 87.66000366210938, 85.79000091552734, 86.98999786376953, 87.26000213623047, 88.63999938964844, 89.66999816894531, 88.68000030517578, 88.27999877929688, 89.86000061035156, 90.94999694824219, 96.38999938964844, 103.93000030517578, 105.29000091552734, 101.76000213623047, 105.01000213623047, 107.08000183105469, 106.87999725341797, 113.55000305175781, 105.0, 113.11000061035156, 117.47000122070312, 116.80000305175781, 125.0, 114.31999969482422, 113.75, 108.48999786376953, 110.30000305175781, 109.47000122070312, 107.47000122070312, 107.86000061035156, 111.0999984741211, 118.70999908447266, 123.7699966430664, 130.5500030517578, 159.55999755859375, 135.17999267578125, 138.11000061035156, 141.14999389648438, 151.6999969482422, 150.8800048828125, 146.1199951171875, 137.0, 121.93000030517578, 128.1999969482422, 122.94000244140625, 113.75, 117.80999755859375, 124.51000213623047, 135.9199981689453, 141.88999938964844, 151.55999755859375, 150.25999450683594, 150.05999755859375, 148.99000549316406, 143.27000427246094, 150.25, 169.08999633789062, 158.8000030517578, 164.60000610351562, 156.72000122070312, 146.47999572753906, 135.1699981689453, 138.55999755859375, 143.44000244140625, 144.82000732421875, 149.58999633789062, 157.8000030517578, 155.39999389648438, 166.47999572753906, 161.0399932861328, 167.13999938964844, 167.91000366210938, 174.8300018310547, 164.69000244140625, 173.67999267578125, 175.47999572753906, 172.02999877929688, 171.05999755859375, 164.0, 161.97000122070312, 163.5500030517578, 179.47999572753906, 204.14999389648438, 208.0800018310547, 223.8699951171875, 210.35000610351562, 207.60000610351562, 209.8300018310547, 205.42999267578125]}],\n",
       "                        {\"legend\": {\"bgcolor\": \"#F5F6F9\", \"font\": {\"color\": \"#4D5663\"}}, \"paper_bgcolor\": \"#F5F6F9\", \"plot_bgcolor\": \"#F5F6F9\", \"template\": {\"data\": {\"bar\": [{\"error_x\": {\"color\": \"#2a3f5f\"}, \"error_y\": {\"color\": \"#2a3f5f\"}, \"marker\": {\"line\": {\"color\": \"#E5ECF6\", \"width\": 0.5}}, \"type\": \"bar\"}], \"barpolar\": [{\"marker\": {\"line\": {\"color\": \"#E5ECF6\", \"width\": 0.5}}, \"type\": \"barpolar\"}], \"carpet\": [{\"aaxis\": {\"endlinecolor\": \"#2a3f5f\", \"gridcolor\": \"white\", \"linecolor\": \"white\", \"minorgridcolor\": \"white\", \"startlinecolor\": \"#2a3f5f\"}, \"baxis\": {\"endlinecolor\": \"#2a3f5f\", \"gridcolor\": \"white\", \"linecolor\": \"white\", \"minorgridcolor\": \"white\", \"startlinecolor\": \"#2a3f5f\"}, \"type\": \"carpet\"}], \"choropleth\": [{\"colorbar\": {\"outlinewidth\": 0, \"ticks\": \"\"}, \"type\": \"choropleth\"}], \"contour\": [{\"colorbar\": {\"outlinewidth\": 0, \"ticks\": \"\"}, \"colorscale\": [[0.0, \"#0d0887\"], [0.1111111111111111, \"#46039f\"], [0.2222222222222222, \"#7201a8\"], [0.3333333333333333, \"#9c179e\"], [0.4444444444444444, \"#bd3786\"], [0.5555555555555556, \"#d8576b\"], [0.6666666666666666, \"#ed7953\"], [0.7777777777777778, \"#fb9f3a\"], [0.8888888888888888, \"#fdca26\"], [1.0, \"#f0f921\"]], \"type\": \"contour\"}], \"contourcarpet\": [{\"colorbar\": {\"outlinewidth\": 0, \"ticks\": \"\"}, \"type\": \"contourcarpet\"}], \"heatmap\": [{\"colorbar\": {\"outlinewidth\": 0, \"ticks\": \"\"}, \"colorscale\": [[0.0, \"#0d0887\"], [0.1111111111111111, \"#46039f\"], [0.2222222222222222, \"#7201a8\"], [0.3333333333333333, \"#9c179e\"], [0.4444444444444444, \"#bd3786\"], [0.5555555555555556, \"#d8576b\"], [0.6666666666666666, \"#ed7953\"], [0.7777777777777778, \"#fb9f3a\"], [0.8888888888888888, \"#fdca26\"], [1.0, \"#f0f921\"]], \"type\": \"heatmap\"}], \"heatmapgl\": [{\"colorbar\": {\"outlinewidth\": 0, \"ticks\": \"\"}, \"colorscale\": [[0.0, \"#0d0887\"], [0.1111111111111111, \"#46039f\"], [0.2222222222222222, \"#7201a8\"], [0.3333333333333333, \"#9c179e\"], [0.4444444444444444, \"#bd3786\"], [0.5555555555555556, \"#d8576b\"], [0.6666666666666666, \"#ed7953\"], [0.7777777777777778, \"#fb9f3a\"], [0.8888888888888888, \"#fdca26\"], [1.0, \"#f0f921\"]], \"type\": \"heatmapgl\"}], \"histogram\": [{\"marker\": {\"colorbar\": {\"outlinewidth\": 0, \"ticks\": \"\"}}, \"type\": \"histogram\"}], \"histogram2d\": [{\"colorbar\": {\"outlinewidth\": 0, \"ticks\": \"\"}, \"colorscale\": [[0.0, \"#0d0887\"], [0.1111111111111111, \"#46039f\"], [0.2222222222222222, \"#7201a8\"], [0.3333333333333333, \"#9c179e\"], [0.4444444444444444, \"#bd3786\"], [0.5555555555555556, \"#d8576b\"], [0.6666666666666666, \"#ed7953\"], [0.7777777777777778, \"#fb9f3a\"], [0.8888888888888888, \"#fdca26\"], [1.0, \"#f0f921\"]], \"type\": \"histogram2d\"}], \"histogram2dcontour\": [{\"colorbar\": {\"outlinewidth\": 0, \"ticks\": \"\"}, \"colorscale\": [[0.0, \"#0d0887\"], [0.1111111111111111, \"#46039f\"], [0.2222222222222222, \"#7201a8\"], [0.3333333333333333, \"#9c179e\"], [0.4444444444444444, \"#bd3786\"], [0.5555555555555556, \"#d8576b\"], [0.6666666666666666, \"#ed7953\"], [0.7777777777777778, \"#fb9f3a\"], [0.8888888888888888, \"#fdca26\"], [1.0, \"#f0f921\"]], \"type\": \"histogram2dcontour\"}], \"mesh3d\": [{\"colorbar\": {\"outlinewidth\": 0, \"ticks\": \"\"}, \"type\": \"mesh3d\"}], \"parcoords\": [{\"line\": {\"colorbar\": {\"outlinewidth\": 0, \"ticks\": \"\"}}, \"type\": \"parcoords\"}], \"pie\": [{\"automargin\": true, \"type\": \"pie\"}], \"scatter\": [{\"marker\": {\"colorbar\": {\"outlinewidth\": 0, \"ticks\": \"\"}}, \"type\": \"scatter\"}], \"scatter3d\": [{\"line\": {\"colorbar\": {\"outlinewidth\": 0, \"ticks\": \"\"}}, \"marker\": {\"colorbar\": {\"outlinewidth\": 0, \"ticks\": \"\"}}, \"type\": \"scatter3d\"}], \"scattercarpet\": [{\"marker\": {\"colorbar\": {\"outlinewidth\": 0, \"ticks\": \"\"}}, \"type\": \"scattercarpet\"}], \"scattergeo\": [{\"marker\": {\"colorbar\": {\"outlinewidth\": 0, \"ticks\": \"\"}}, \"type\": \"scattergeo\"}], \"scattergl\": [{\"marker\": {\"colorbar\": {\"outlinewidth\": 0, \"ticks\": \"\"}}, \"type\": \"scattergl\"}], \"scattermapbox\": [{\"marker\": {\"colorbar\": {\"outlinewidth\": 0, \"ticks\": \"\"}}, \"type\": \"scattermapbox\"}], \"scatterpolar\": [{\"marker\": {\"colorbar\": {\"outlinewidth\": 0, \"ticks\": \"\"}}, \"type\": \"scatterpolar\"}], \"scatterpolargl\": [{\"marker\": {\"colorbar\": {\"outlinewidth\": 0, \"ticks\": \"\"}}, \"type\": \"scatterpolargl\"}], \"scatterternary\": [{\"marker\": {\"colorbar\": {\"outlinewidth\": 0, \"ticks\": \"\"}}, \"type\": \"scatterternary\"}], \"surface\": [{\"colorbar\": {\"outlinewidth\": 0, \"ticks\": \"\"}, \"colorscale\": [[0.0, \"#0d0887\"], [0.1111111111111111, \"#46039f\"], [0.2222222222222222, \"#7201a8\"], [0.3333333333333333, \"#9c179e\"], [0.4444444444444444, \"#bd3786\"], [0.5555555555555556, \"#d8576b\"], [0.6666666666666666, \"#ed7953\"], [0.7777777777777778, \"#fb9f3a\"], [0.8888888888888888, \"#fdca26\"], [1.0, \"#f0f921\"]], \"type\": \"surface\"}], \"table\": [{\"cells\": {\"fill\": {\"color\": \"#EBF0F8\"}, \"line\": {\"color\": \"white\"}}, \"header\": {\"fill\": {\"color\": \"#C8D4E3\"}, \"line\": {\"color\": \"white\"}}, \"type\": \"table\"}]}, \"layout\": {\"annotationdefaults\": {\"arrowcolor\": \"#2a3f5f\", \"arrowhead\": 0, \"arrowwidth\": 1}, \"coloraxis\": {\"colorbar\": {\"outlinewidth\": 0, \"ticks\": \"\"}}, \"colorscale\": {\"diverging\": [[0, \"#8e0152\"], [0.1, \"#c51b7d\"], [0.2, \"#de77ae\"], [0.3, \"#f1b6da\"], [0.4, \"#fde0ef\"], [0.5, \"#f7f7f7\"], [0.6, \"#e6f5d0\"], [0.7, \"#b8e186\"], [0.8, \"#7fbc41\"], [0.9, \"#4d9221\"], [1, \"#276419\"]], \"sequential\": [[0.0, \"#0d0887\"], [0.1111111111111111, \"#46039f\"], [0.2222222222222222, \"#7201a8\"], [0.3333333333333333, \"#9c179e\"], [0.4444444444444444, \"#bd3786\"], [0.5555555555555556, \"#d8576b\"], [0.6666666666666666, \"#ed7953\"], [0.7777777777777778, \"#fb9f3a\"], [0.8888888888888888, \"#fdca26\"], [1.0, \"#f0f921\"]], \"sequentialminus\": [[0.0, \"#0d0887\"], [0.1111111111111111, \"#46039f\"], [0.2222222222222222, \"#7201a8\"], [0.3333333333333333, \"#9c179e\"], [0.4444444444444444, \"#bd3786\"], [0.5555555555555556, \"#d8576b\"], [0.6666666666666666, \"#ed7953\"], [0.7777777777777778, \"#fb9f3a\"], [0.8888888888888888, \"#fdca26\"], [1.0, \"#f0f921\"]]}, \"colorway\": [\"#636efa\", \"#EF553B\", \"#00cc96\", \"#ab63fa\", \"#FFA15A\", \"#19d3f3\", \"#FF6692\", \"#B6E880\", \"#FF97FF\", \"#FECB52\"], \"font\": {\"color\": \"#2a3f5f\"}, \"geo\": {\"bgcolor\": \"white\", \"lakecolor\": \"white\", \"landcolor\": \"#E5ECF6\", \"showlakes\": true, \"showland\": true, \"subunitcolor\": \"white\"}, \"hoverlabel\": {\"align\": \"left\"}, \"hovermode\": \"closest\", \"mapbox\": {\"style\": \"light\"}, \"paper_bgcolor\": \"white\", \"plot_bgcolor\": \"#E5ECF6\", \"polar\": {\"angularaxis\": {\"gridcolor\": \"white\", \"linecolor\": \"white\", \"ticks\": \"\"}, \"bgcolor\": \"#E5ECF6\", \"radialaxis\": {\"gridcolor\": \"white\", \"linecolor\": \"white\", \"ticks\": \"\"}}, \"scene\": {\"xaxis\": {\"backgroundcolor\": \"#E5ECF6\", \"gridcolor\": \"white\", \"gridwidth\": 2, \"linecolor\": \"white\", \"showbackground\": true, \"ticks\": \"\", \"zerolinecolor\": \"white\"}, \"yaxis\": {\"backgroundcolor\": \"#E5ECF6\", \"gridcolor\": \"white\", \"gridwidth\": 2, \"linecolor\": \"white\", \"showbackground\": true, \"ticks\": \"\", \"zerolinecolor\": \"white\"}, \"zaxis\": {\"backgroundcolor\": \"#E5ECF6\", \"gridcolor\": \"white\", \"gridwidth\": 2, \"linecolor\": \"white\", \"showbackground\": true, \"ticks\": \"\", \"zerolinecolor\": \"white\"}}, \"shapedefaults\": {\"line\": {\"color\": \"#2a3f5f\"}}, \"ternary\": {\"aaxis\": {\"gridcolor\": \"white\", \"linecolor\": \"white\", \"ticks\": \"\"}, \"baxis\": {\"gridcolor\": \"white\", \"linecolor\": \"white\", \"ticks\": \"\"}, \"bgcolor\": \"#E5ECF6\", \"caxis\": {\"gridcolor\": \"white\", \"linecolor\": \"white\", \"ticks\": \"\"}}, \"title\": {\"x\": 0.05}, \"xaxis\": {\"automargin\": true, \"gridcolor\": \"white\", \"linecolor\": \"white\", \"ticks\": \"\", \"title\": {\"standoff\": 15}, \"zerolinecolor\": \"white\", \"zerolinewidth\": 2}, \"yaxis\": {\"automargin\": true, \"gridcolor\": \"white\", \"linecolor\": \"white\", \"ticks\": \"\", \"title\": {\"standoff\": 15}, \"zerolinecolor\": \"white\", \"zerolinewidth\": 2}}}, \"title\": {\"font\": {\"color\": \"#4D5663\"}}, \"xaxis\": {\"gridcolor\": \"#E1E5ED\", \"showgrid\": true, \"tickfont\": {\"color\": \"#4D5663\"}, \"title\": {\"font\": {\"color\": \"#4D5663\"}, \"text\": \"\"}, \"zerolinecolor\": \"#E1E5ED\"}, \"yaxis\": {\"gridcolor\": \"#E1E5ED\", \"showgrid\": true, \"tickfont\": {\"color\": \"#4D5663\"}, \"title\": {\"font\": {\"color\": \"#4D5663\"}, \"text\": \"\"}, \"zerolinecolor\": \"#E1E5ED\"}},\n",
       "                        {\"showLink\": true, \"linkText\": \"Export to plot.ly\", \"plotlyServerURL\": \"https://plot.ly\", \"responsive\": true}\n",
       "                    ).then(function(){\n",
       "                            \n",
       "var gd = document.getElementById('25a04b3e-7b9f-4c81-a1ac-f539de54f7d0');\n",
       "var x = new MutationObserver(function (mutations, observer) {{\n",
       "        var display = window.getComputedStyle(gd).display;\n",
       "        if (!display || display === 'none') {{\n",
       "            console.log([gd, 'removed!']);\n",
       "            Plotly.purge(gd);\n",
       "            observer.disconnect();\n",
       "        }}\n",
       "}});\n",
       "\n",
       "// Listen for the removal of the full notebook cells\n",
       "var notebookContainer = gd.closest('#notebook-container');\n",
       "if (notebookContainer) {{\n",
       "    x.observe(notebookContainer, {childList: true});\n",
       "}}\n",
       "\n",
       "// Listen for the clearing of the current output cell\n",
       "var outputEl = gd.closest('.output');\n",
       "if (outputEl) {{\n",
       "    x.observe(outputEl, {childList: true});\n",
       "}}\n",
       "\n",
       "                        })\n",
       "                };\n",
       "                });\n",
       "            </script>\n",
       "        </div>"
      ]
     },
     "metadata": {},
     "output_type": "display_data"
    }
   ],
   "source": [
    "selected_tickers = ['MSFT', 'BABA', 'AAPL', 'MTCH','ZM']\n",
    "selected_tech_stocks = pd.concat([df_map['MSFT'],df_map['BABA'],df_map['AAPL'],df_map['MTCH'],df_map['ZM']],axis=1,keys=selected_tickers)\n",
    "selected_tech_stocks.columns.names = ['Stock Ticker','Stock Info']\n",
    "selected_tech_stocks.xs(key='Close',axis=1,level='Stock Info').loc['2019-10-01':current_date_str].iplot(width=3.5)\n",
    "#plt.legend(bbox_to_anchor=(1.05, 1), loc='upper left', borderaxespad=0.)\n",
    "#plt.tight_layout()"
   ]
  },
  {
   "cell_type": "markdown",
   "metadata": {},
   "source": [
    "Finally: Using a heatmap of the correlation between the selected stocks Close Price"
   ]
  },
  {
   "cell_type": "code",
   "execution_count": 42,
   "metadata": {},
   "outputs": [
    {
     "data": {
      "image/png": "[encoded data removed]",
      "text/plain": [
       "<Figure size 1440x1440 with 2 Axes>"
      ]
     },
     "metadata": {},
     "output_type": "display_data"
    },
    {
     "data": {
      "text/plain": [
       "<Figure size 432x288 with 0 Axes>"
      ]
     },
     "metadata": {},
     "output_type": "display_data"
    }
   ],
   "source": [
    "plt.figure(figsize=(20,20))\n",
    "sns.set(font_scale=1.15)\n",
    "sns.heatmap(tech_stocks.xs(key='Close',axis=1,level='Stock Info').corr(),linewidths=.5,cmap='BuPu',annot=True)\n",
    "b, t = plt.ylim() # discover the values for bottom and top\n",
    "b += 0.5 # Add 0.5 to the bottom\n",
    "t -= 0.5 # Subtract 0.5 from the top\n",
    "plt.ylim(b, t) # update the ylim(bottom, top) values\n",
    "plt.show()\n",
    "plt.tight_layout()"
   ]
  }
 ],
 "metadata": {
  "kernelspec": {
   "display_name": "Python 3",
   "language": "python",
   "name": "python3"
  },
  "language_info": {
   "codemirror_mode": {
    "name": "ipython",
    "version": 3
   },
   "file_extension": ".py",
   "mimetype": "text/x-python",
   "name": "python",
   "nbconvert_exporter": "python",
   "pygments_lexer": "ipython3",
   "version": "3.7.4"
  }
 },
 "nbformat": 4,
 "nbformat_minor": 2
}
