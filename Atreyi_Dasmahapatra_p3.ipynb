{
  "nbformat": 4,
  "nbformat_minor": 0,
  "metadata": {
    "colab": {
      "name": "Atreyi_Dasmahapatra_p3.ipynb",
      "private_outputs": true,
      "provenance": [],
      "collapsed_sections": [],
      "include_colab_link": true
    },
    "kernelspec": {
      "display_name": "Python 3",
      "language": "python",
      "name": "python3"
    },
    "language_info": {
      "codemirror_mode": {
        "name": "ipython",
        "version": 3
      },
      "file_extension": ".py",
      "mimetype": "text/x-python",
      "name": "python",
      "nbconvert_exporter": "python",
      "pygments_lexer": "ipython3",
      "version": "3.7.4"
    },
    "toc": {
      "base_numbering": 1,
      "nav_menu": {},
      "number_sections": false,
      "sideBar": true,
      "skip_h1_title": true,
      "title_cell": "Table of Contents",
      "title_sidebar": "Contents",
      "toc_cell": false,
      "toc_position": {},
      "toc_section_display": true,
      "toc_window_display": false
    }
  },
  "cells": [
    {
      "cell_type": "markdown",
      "metadata": {
        "id": "view-in-github",
        "colab_type": "text"
      },
      "source": [
        "<a href=\"https://colab.research.google.com/github/atreyid/COVID_19_Tech_Stocks_Analysis/blob/master/Atreyi_Dasmahapatra_p3.ipynb\" target=\"_parent\"><img src=\"https://colab.research.google.com/assets/colab-badge.svg\" alt=\"Open In Colab\"/></a>"
      ]
    },
    {
      "cell_type": "markdown",
      "metadata": {
        "id": "4r1L69aGoZG0"
      },
      "source": [
        "# Project 3: Poisonous Mushrooms"
      ]
    },
    {
      "cell_type": "markdown",
      "metadata": {
        "id": "btVARsAroZG1"
      },
      "source": [
        "In this project, you'll investigate properties of mushrooms. This classic dataset contains over 8000 examples, where each describes a mushroom by a variety of features like color, odor, etc., and the target variable is an indicator for whether the mushroom is poisonous. The feature space has been binarized. Look at the feature_names below to see all 126 binary names.\n",
        "\n",
        "You'll start by running PCA to reduce the dimensionality from 126 down to 2 so that you can easily visualize the data. In general, PCA is very useful for visualization (though sklearn.manifold.tsne is known to produce better visualizations). Recall that PCA is a linear transformation. The 1st projected dimension is the linear combination of all 126 original features that captures as much of the variance in the data as possible. The 2nd projected dimension is the linear combination of all 126 original features that captures as much of the remaining variance as possible. The idea of dense low dimensional representations is crucial to machine learning!\n",
        "\n",
        "Once you've projected the data to 2 dimensions, you'll experiment with clustering using k-means and density estimation with Gaussian mixture models (GMM). Finally, you'll train a classifier by fitting a GMM for the positive class and a GMM for the negative class, and perform inference by comparing the probabilities output by each model.\n",
        "\n",
        "As always, you're welcome to work on the project in groups and discuss ideas on the course wall, but please **prepare your own write-up and write your own code**."
      ]
    },
    {
      "cell_type": "code",
      "metadata": {
        "id": "YDvuh15loZG2"
      },
      "source": [
        "%matplotlib inline\n",
        "\n",
        "import urllib.request as urllib2 # For python3\n",
        "import numpy as np\n",
        "import matplotlib.pyplot as plt\n",
        "from sklearn import metrics\n",
        "from sklearn.decomposition import PCA\n",
        "from sklearn.cluster import KMeans\n",
        "from sklearn.mixture import GaussianMixture\n",
        "from matplotlib.colors import LogNorm"
      ],
      "execution_count": null,
      "outputs": []
    },
    {
      "cell_type": "code",
      "metadata": {
        "id": "JKyn8WO1pJwK"
      },
      "source": [
        "MUSHROOM_DATA = 'https://raw.githubusercontent.com/UCB-MIDS/207-Applied-Machine-Learning/master/Data/mushroom.data'\n",
        "MUSHROOM_MAP = 'https://raw.githubusercontent.com/UCB-MIDS/207-Applied-Machine-Learning/master/Data/mushroom.map'"
      ],
      "execution_count": null,
      "outputs": []
    },
    {
      "cell_type": "markdown",
      "metadata": {
        "id": "28FIvBtVoZG4"
      },
      "source": [
        "Load feature names."
      ]
    },
    {
      "cell_type": "code",
      "metadata": {
        "id": "zXUv_S1YoZG4"
      },
      "source": [
        "feature_names = []\n",
        "\n",
        "for line in urllib2.urlopen(MUSHROOM_MAP):\n",
        "    [index, name, junk] = line.decode('utf-8').split()\n",
        "    feature_names.append(name)\n",
        "\n",
        "print('Loaded feature names: ', len(feature_names))\n",
        "print(feature_names)"
      ],
      "execution_count": null,
      "outputs": []
    },
    {
      "cell_type": "markdown",
      "metadata": {
        "id": "k034gVFboZHA"
      },
      "source": [
        "Load data. The dataset is sparse, but there aren't too many features, so we'll use a dense representation, which is supported by all sklearn objects."
      ]
    },
    {
      "cell_type": "code",
      "metadata": {
        "id": "gg6IVy0loZHA"
      },
      "source": [
        "X, Y = [], []\n",
        "\n",
        "for line in urllib2.urlopen(MUSHROOM_DATA):\n",
        "    items = line.decode('utf-8').split()\n",
        "    Y.append(int(items.pop(0)))\n",
        "    x = np.zeros(len(feature_names))\n",
        "    for item in items:\n",
        "        feature = int(str(item).split(':')[0])\n",
        "        x[feature] = 1\n",
        "    X.append(x)\n",
        "\n",
        "# Convert these lists to numpy arrays.\n",
        "X = np.array(X)\n",
        "Y = np.array(Y)\n",
        "\n",
        "# Split into train and test data.\n",
        "train_data, train_labels = X[:7000], Y[:7000]\n",
        "test_data, test_labels = X[7000:], Y[7000:]\n",
        "\n",
        "# Check that the shapes look right.\n",
        "print(train_data.shape, test_data.shape)"
      ],
      "execution_count": null,
      "outputs": []
    },
    {
      "cell_type": "markdown",
      "metadata": {
        "id": "nr25XV7BoZHC"
      },
      "source": [
        "### Part 1:\n",
        "\n",
        "Do a principal components analysis on the data. Show what fraction of the total variance in the training data is explained by the first k principal components, for k in [1, 2, 3, 4, 5, 10, 20, 30, 40, 50].  Also show a lineplot of fraction of total variance vs. number of principal components, for all possible numbers of principal components.\n",
        "\n",
        "Notes:\n",
        "* You can use `PCA` to produce a PCA analysis."
      ]
    },
    {
      "cell_type": "code",
      "metadata": {
        "id": "frHUWcZUoZHC"
      },
      "source": [
        "def P1():\n",
        "    \n",
        "    pca = PCA()\n",
        "    pca.fit_transform(train_data)\n",
        "    \n",
        "    '''\n",
        "    Need to compute percentage of variance explained by each of the selected components\n",
        "    Using only pca.explained_variance_ratio_[i] gives the variance explained solely \n",
        "    by the i+1st dimension. The model.explained_variance_ratio_.cumsum() returns the \n",
        "    cumulative variance explained by the first i+1 dimensions.\n",
        "    '''\n",
        "    \n",
        "    variances = pca.explained_variance_ratio_.cumsum()\n",
        "    k_values = [1, 2, 3, 4, 5, 10, 20, 30, 40, 50]\n",
        "    variances_for_selected_k_values = []\n",
        "    \n",
        "    for index, k in enumerate(k_values):\n",
        "        print (\"k =\", k, \" Variance =\", round(variances[k],3))\n",
        "        variances_for_selected_k_values.append(variances[k])\n",
        "    \n",
        "    plt.plot(k_values,variances_for_selected_k_values, linewidth=2)\n",
        "    plt.xlabel(\"k values\")\n",
        "    plt.ylabel(\"Variance corresponding to each k\")\n",
        "    plt.title(\"Fraction of total variance explained by first k components\")\n",
        "\n",
        "\n",
        "\n",
        "P1()"
      ],
      "execution_count": null,
      "outputs": []
    },
    {
      "cell_type": "markdown",
      "metadata": {
        "id": "zbGl1D3RoZHE"
      },
      "source": [
        "### Part 2:\n",
        "\n",
        "PCA can be very useful for visualizing data. Project the training data down to 2 dimensions and show as a square scatterplot. Show the positive (poisonous) examples in red and the negative (non-poisonous) examples in green. Here's a reference for plotting: http://matplotlib.org/users/pyplot_tutorial.html\n",
        "\n",
        "Notes:\n",
        "* You can use `PCA` to produce a PCA analysis."
      ]
    },
    {
      "cell_type": "code",
      "metadata": {
        "id": "ZqPswXVloZHE"
      },
      "source": [
        "def P2():\n",
        "    pca = PCA(n_components=2)\n",
        "    results = pca.fit_transform(train_data)\n",
        "    #print(results)\n",
        "    \n",
        "    plt.figure(figsize = (5,5))\n",
        "    plt.axis([-3,3,-3,3])\n",
        "\n",
        "    #when train_label == 1, then the mushroom is poisonous\n",
        "    #when train_label == 0, then the mushroom is not poisonous\n",
        "    plt.plot(results[:,0][train_labels==1], results[:,1][train_labels==1], 'go', markersize=2)\n",
        "    plt.plot(results[:,0][train_labels==0], results[:,1][train_labels==0], 'ro', markersize=2)\n",
        "    \n",
        "    plt.xlabel('Component 1')\n",
        "    plt.ylabel('Component 2')\n",
        "    plt.title(\"PCA with 2 dimensions visualization\")\n",
        "    plt.legend([\"Poisonous\", \"Non poisonous\"])\n",
        "    \n",
        "P2()"
      ],
      "execution_count": null,
      "outputs": []
    },
    {
      "cell_type": "markdown",
      "metadata": {
        "id": "yuHTFCyNoZHG"
      },
      "source": [
        "Part 3:\n",
        "\n",
        "Fit a k-means cluster model with 6 clusters over the 2d projected data. As in part 2, show as a square scatterplot with the positive (poisonous) examples in red and the negative (non-poisonous) examples in green.  For each cluster, mark the centroid and plot a circle that goes through the cluster's example that is most distant from the centroid.\n",
        "\n",
        "Notes:\n",
        "* You can use `KMeans` to produce a k-means cluster analysis.\n",
        "* You can use `linalg.norm` to determine distance (dissimilarity) between observations."
      ]
    },
    {
      "cell_type": "code",
      "metadata": {
        "id": "gJcVJnkPoZHG"
      },
      "source": [
        "def P3():\n",
        "    #first applying PCA to reduce data to 2D\n",
        "    pca = PCA(n_components=2)\n",
        "    results = pca.fit_transform(train_data)\n",
        "    \n",
        "    #Plotting poisonous vs non-poisonous\n",
        "    plt.figure(figsize = (10,10))\n",
        "    plt.plot(results[:,0][train_labels==1], results[:,1][train_labels==1], 'go', markersize=1)\n",
        "    plt.plot(results[:,0][train_labels==0], results[:,1][train_labels==0], 'ro', markersize=1)\n",
        "\n",
        "    plt.xlabel('Component 1',fontsize = 16)\n",
        "    plt.ylabel('Component 2',fontsize = 16)\n",
        "    plt.title(\"PCA components=2, KMeans clusters= 6\",fontsize = 16)\n",
        "    plt.legend([\"Poisonous\", \"Non poisonous\"],fontsize = 16) \n",
        "    \n",
        "    '''\n",
        "    For plotting clusters with cluster diameter and a circle that goes \n",
        "    through the cluster's example that is most distant from the centroid I used the approach from\n",
        "    this answer on stackexchange:\n",
        "    \n",
        "    https://datascience.stackexchange.com/questions/32753/\n",
        "    find-cluster-diameter-and-associated-cluster-points-with-kmeans-clustering-scik\n",
        "    '''\n",
        "\n",
        "    kmeans = KMeans(n_clusters=6).fit(results)\n",
        "    kcenters = kmeans.cluster_centers_\n",
        "    kpredictions = kmeans.predict(results)\n",
        "    plt.scatter(kcenters[:, 0], kcenters[:, 1], c='black', s=30, zorder=3)\n",
        "    ax = plt.gca()\n",
        "\n",
        "    for idx in range(6):\n",
        "        radii = max([np.linalg.norm(np.subtract(i,kcenters[idx])) \n",
        "                   for i in zip(results[kpredictions == idx, 0],results[kpredictions == idx, 1])])\n",
        "        ax.add_patch(plt.Circle(kcenters[idx],radii,fill=False,alpha=0.5))\n",
        "\n",
        "\n",
        "P3()"
      ],
      "execution_count": null,
      "outputs": []
    },
    {
      "cell_type": "markdown",
      "metadata": {
        "id": "v4dXc_VloZHI"
      },
      "source": [
        "### Part 4:\n",
        "\n",
        "Fit Gaussian mixture models for the positive (poisonous) examples in your 2d projected data. Vary the number of mixture components from 1 to 4 and the covariance matrix type 'spherical', 'diag', 'tied', 'full' (that's 16 models).  Show square plots of the estimated density contours presented in a 4x4 grid - one row each for a number of mixture components and one column each for a convariance matrix type.  \n",
        "\n",
        "Notes:\n",
        "* You can use `GaussianMixture(n_components=..., covariance_type=..., random_state=12345)` to produce a Gaussian mixture model.\n",
        "* You can use `contour` in combination with other methods to plot contours, like in this example: http://scikit-learn.org/stable/auto_examples/mixture/plot_gmm_pdf.html#example-mixture-plot-gmm-pdf-py\n",
        "* You can use `contour` without the `norm` and `levels` parameters. "
      ]
    },
    {
      "cell_type": "code",
      "metadata": {
        "id": "ZJSPb5gioZHI"
      },
      "source": [
        "def P4():\n",
        "    #first applying PCA to reduce data to 2D\n",
        "    pca = PCA(n_components=2)\n",
        "    result_positives = pca.fit_transform(train_data)[train_labels == 1]\n",
        "    cov_matrix_type = ['spherical', 'diag', 'tied', 'full']\n",
        "    count = 1\n",
        "    \n",
        "    fig = plt.figure() #initializing plot\n",
        "    fig.set_size_inches(25,21)\n",
        "    fig.suptitle('Part 4: Gaussian Mixture Model (GMM) for 1-4 Mixture Components, Covariance Matrix Types spherical/diag/tied/full, Positive Examples Only', size=16)\n",
        "    plt.subplots_adjust(left=0.125, bottom= 0.1, right=0.9, top=0.9, wspace=0.1, hspace=0.3)\n",
        "    \n",
        "    for component in range(1,5):\n",
        "        for cov_type in cov_matrix_type:\n",
        "            gmm  = GaussianMixture(n_components=component, covariance_type=cov_type)\n",
        "            gmm.fit(result_positives)\n",
        "            \n",
        "            gmm_predict = gmm.predict(result_positives)\n",
        "            x = np.linspace(-2.5, 3.5)\n",
        "            y = np.linspace(-3., 3.)\n",
        "            X, Y = np.meshgrid(x, y)\n",
        "            XX = np.array([X.ravel(), Y.ravel()]).T\n",
        "            Z = -gmm.score_samples(XX)\n",
        "            Z = Z.reshape(X.shape)\n",
        "            \n",
        "            ax = fig.add_subplot(4, 4, count) #add to 4*4 grid\n",
        "            ax.set_xlabel('PC1')\n",
        "            ax.set_ylabel('PC2')\n",
        "            count = count + 1\n",
        "        \n",
        "        \n",
        "            CS = plt.contour(X, Y, Z, norm=LogNorm(vmin=1.0, vmax=1000.0),\n",
        "                             levels=np.logspace(0, 2, 10), alpha =0.3, cmap = 'hot')\n",
        "            CB = plt.colorbar(CS, shrink=0.8)\n",
        "            CB.ax.tick_params(labelsize=0) #removing labels on tick bar\n",
        "            plt.scatter(result_positives[:, 0], result_positives[:, 1], c=gmm_predict,marker=\"4\",  cmap='cool')\n",
        "            plt.title(\"GMM with \" + str(component) + \" mixture component\\nCovariance matrix type: \" + cov_type)\n",
        "            plt.grid()\n",
        "            plt.axis('tight')\n",
        "            \n",
        "P4()"
      ],
      "execution_count": null,
      "outputs": []
    },
    {
      "cell_type": "markdown",
      "metadata": {
        "id": "iMcLxdqDoZHL"
      },
      "source": [
        "### Part 5:\n",
        "\n",
        "Fit two Gaussian mixture models, one for the positive examples and one for the negative examples in your 2d projected data. Use 4 mixture components and full convariance for each model.  Predict the test example labels by picking the labels corresponding to the larger of the two models' probabilities.  What is the accuracy of you predictions on the test data?\n",
        "\n",
        "Notes:\n",
        "* You can use `GaussianMixture(n_components=..., covariance_type=..., random_state=12345)` to produce a Gaussian mixture model.\n",
        "* You can use `GaussianMixture`'s `score_samples` method to find the probabilities."
      ]
    },
    {
      "cell_type": "code",
      "metadata": {
        "id": "AOKXtGBzoZHL"
      },
      "source": [
        "def P5():\n",
        "    pca = PCA(n_components=2)\n",
        "    \n",
        "    #Apply dimentionality reduction to train data\n",
        "    train_results = pca.fit_transform(train_data)\n",
        "    \n",
        "    #Apply dimentionality reduction to test data\n",
        "    test_results = pca.transform(test_data)\n",
        "    \n",
        "    train_positives = train_results[train_labels == 1]\n",
        "    train_negatives = train_results[train_labels == 0]\n",
        "    \n",
        "    gmm_positives = GaussianMixture(n_components=4, covariance_type=\"full\").fit(train_positives)\n",
        "    gmm_negatives = GaussianMixture(n_components=4, covariance_type=\"full\").fit(train_negatives)\n",
        "\n",
        "    # Predict the test example labels by picking the labels corresponding \n",
        "    # to the larger of the two models' probabilities\n",
        "    pred_labels = gmm_positives.score_samples(test_results) > gmm_negatives.score_samples(test_results)\n",
        "    \n",
        "    #Calculating accuracy of predictions\n",
        "    accuracy=np.sum(pred_labels==test_labels)/len(test_labels)\n",
        "    \n",
        "    print(\"Accuracy of predictions on the test data is\", (round(accuracy,4)))\n",
        "    \n",
        "P5()"
      ],
      "execution_count": null,
      "outputs": []
    },
    {
      "cell_type": "markdown",
      "metadata": {
        "id": "oWV5Ld70oZHN"
      },
      "source": [
        "### Part 6:\n",
        "\n",
        "Run a series of experiments to find the Gaussian mixture model that results in the best accuracy with no more than 50 parameters.  Do this by varying the number of PCA components, the number of GMM components, and the covariance type.\n",
        "\n",
        "Notes:\n",
        "* You can use `GaussianMixture(n_components=..., covariance_type=..., random_state=12345)` to produce a Gaussian mixture model.\n",
        "\n",
        "\n",
        "* For spherical, diag, and full covariance types:\n",
        "  * number of parameters = (number of parameters per gmm component * number of gmm components - 1) * number of classes\n",
        "  * number of parameters per gmm component includes all the means plus all the non-zero, non-duplicated values in the covariance matrix plus the mixing weight\n",
        "  * Each mixing weight parameter indicates how much to weight a particular gmm component; the -1 above accounts for the fact that the mixing weights must sum to 1, so you do not need to include the last mixing weight as its own parameter\n",
        "\n",
        "\n",
        "* To calculate the number of parameters for tied covariance type:\n",
        "  * number of parameters = (number of parameters per class - 1) * number of classes\n",
        "  * number of parameters per class includes all the means and mixing weights for all the gmm components plus all the non-zero, non-duplicated values in the one shared covariance matrix\n",
        "  * Each mixing weight parameter indicates how much to weight a particular gmm component; the -1 above accounts for the fact that the mixing weights must sum to 1, so you do not need to include the last mixing weight as its own parameter"
      ]
    },
    {
      "cell_type": "code",
      "metadata": {
        "id": "wWCMLsM2oZHN"
      },
      "source": [
        "def P6():\n",
        "    \n",
        "    #I will use the previous function P5 in a loop\n",
        "    def test_PCA_GMM(n_pca, n_gmm, covariance_type):\n",
        "        pca = PCA(n_components=n_pca)\n",
        "    \n",
        "        #Apply dimentionality reduction to train data\n",
        "        train_results = pca.fit_transform(train_data)\n",
        "\n",
        "        #Apply dimentionality reduction to test data\n",
        "        test_results = pca.transform(test_data)\n",
        "\n",
        "        train_positives = train_results[train_labels == 1]\n",
        "        train_negatives = train_results[train_labels == 0]\n",
        "\n",
        "        gmm_positives = GaussianMixture(n_components=n_gmm, covariance_type=covariance_type).fit(train_positives)\n",
        "        gmm_negatives = GaussianMixture(n_components=n_gmm, covariance_type=covariance_type).fit(train_negatives)\n",
        "\n",
        "        # Predict the test example labels by picking the labels corresponding \n",
        "        # to the larger of the two models' probabilities\n",
        "        pred_labels = gmm_positives.score_samples(test_results) > gmm_negatives.score_samples(test_results)\n",
        "\n",
        "        #Calculating accuracy of predictions\n",
        "        accuracy=np.sum(pred_labels==test_labels)/len(test_labels)\n",
        "        \n",
        "        return accuracy\n",
        "    \n",
        "    \n",
        "#     #covariance matrix types\n",
        "    cov_matrix_type = [\"spherical\", \"diag\", \"tied\", \"full\"]\n",
        "    \n",
        "    #initialize optimum parameters\n",
        "    optimum_pca_component = 0\n",
        "    optimum_gmm_component = 0\n",
        "    optimum_covariance_matrix = 0\n",
        "    optimum_accuracy = 0\n",
        "    \n",
        "    '''\n",
        "    Tried range till 25, but since the best combination of n_pca and n_gmm doesnot exceed 10, \n",
        "    I changed the range to 10 for faster computation\n",
        "    '''\n",
        "    for n_pca in range(1,10):\n",
        "        for n_gmm in range(1,10):\n",
        "            for cov_type in cov_matrix_type:\n",
        "                #calculate total number of parameters\n",
        "                if cov_type == \"full\" or cov_type == \"tied\":\n",
        "                    total_parameters = (n_pca*n_gmm + n_pca*(n_pca + 1)/2* n_gmm) * 2\n",
        "                if cov_type == \"diagonal\":\n",
        "                    total_parameters = (n_pca*n_gmm + n_pca* n_gmm) * 2\n",
        "                if cov_type == \"spherical\":\n",
        "                    total_parameters = (n_pca*n_gmm + n_gmm) * 2\n",
        "                \n",
        "                if total_parameters <= 50:\n",
        "                    calculate_accuracy = test_PCA_GMM(n_pca, n_gmm,cov_type)\n",
        "                    if calculate_accuracy > optimum_accuracy:\n",
        "                        optimum_accuracy = calculate_accuracy\n",
        "                        optimum_gmm_component = n_gmm\n",
        "                        optimum_pca_component = n_pca\n",
        "                        optimum_covariance_matrix = cov_type\n",
        "                        \n",
        "    print(\"The combination of parameters that resulted in the best accuracy is as follows:\")\n",
        "    print(\"Optimum number of PCA components: \" + str(optimum_pca_component))\n",
        "    print(\"Optimum number of GMM components: \" + str(optimum_gmm_component))\n",
        "    print(\"Covariance Type: \" + str(optimum_covariance_matrix))\n",
        "    print(\"Max accuracy: \", round(optimum_accuracy,4))\n",
        "\n",
        "P6()"
      ],
      "execution_count": null,
      "outputs": []
    },
    {
      "cell_type": "code",
      "metadata": {
        "id": "OkT58NpcpSmN"
      },
      "source": [
        ""
      ],
      "execution_count": null,
      "outputs": []
    },
    {
      "cell_type": "code",
      "metadata": {
        "id": "rT4STIKL9SyY"
      },
      "source": [
        ""
      ],
      "execution_count": null,
      "outputs": []
    }
  ]
}